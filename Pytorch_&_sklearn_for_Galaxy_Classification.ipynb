{
  "nbformat": 4,
  "nbformat_minor": 0,
  "metadata": {
    "colab": {
      "provenance": [],
      "include_colab_link": true
    },
    "kernelspec": {
      "name": "python3",
      "display_name": "Python 3"
    },
    "language_info": {
      "name": "python"
    }
  },
  "cells": [
    {
      "cell_type": "markdown",
      "metadata": {
        "id": "view-in-github",
        "colab_type": "text"
      },
      "source": [
        "<a href=\"https://colab.research.google.com/github/iscel15/Ciencia-de-datos/blob/main/Pytorch_%26_sklearn_for_Galaxy_Classification.ipynb\" target=\"_parent\"><img src=\"https://colab.research.google.com/assets/colab-badge.svg\" alt=\"Open In Colab\"/></a>"
      ]
    },
    {
      "cell_type": "code",
      "execution_count": null,
      "metadata": {
        "id": "n-gZv8pR-jPb"
      },
      "outputs": [],
      "source": [
        "\n",
        "import pandas as pd\n",
        "import numpy as np\n",
        "import matplotlib.pyplot as plt\n",
        "import seaborn as sns\n",
        "\n",
        "\n",
        "from sklearn.model_selection import train_test_split\n",
        "from sklearn.preprocessing import StandardScaler\n",
        "\n",
        "from sklearn.neighbors import KNeighborsClassifier\n",
        "from sklearn.linear_model import LogisticRegression\n",
        "from sklearn.svm import SVC\n",
        "from sklearn.tree import DecisionTreeClassifier\n",
        "from sklearn.ensemble import RandomForestClassifier,VotingClassifier\n",
        "from sklearn.naive_bayes import GaussianNB\n",
        "from sklearn import tree\n",
        "\n",
        "from sklearn.neural_network import MLPClassifier\n",
        "\n",
        "from sklearn.model_selection import GridSearchCV\n",
        "from sklearn.metrics import classification_report\n",
        "from sklearn import metrics\n",
        "\n",
        "import xgboost as xgb\n",
        "#from skopt import BayesSearchCV\n",
        "from yellowbrick.classifier.rocauc import roc_auc\n",
        "#import cufflinks as cf\n",
        "#cf.go_offline()\n",
        "%matplotlib inline \n"
      ]
    },
    {
      "cell_type": "code",
      "source": [
        "df_galax = pd.read_csv('/content/drive/MyDrive/Colab Notebooks/GalaxyZoo1_DR_table2.csv',error_bad_lines=False)\n",
        "df_galax.head()"
      ],
      "metadata": {
        "colab": {
          "base_uri": "https://localhost:8080/",
          "height": 275
        },
        "id": "r5fuiMpkD53X",
        "outputId": "b7e7984d-2bcf-4826-b35c-5f465d3e749c"
      },
      "execution_count": null,
      "outputs": [
        {
          "output_type": "stream",
          "name": "stderr",
          "text": [
            "<ipython-input-2-18372f43efe4>:1: FutureWarning: The error_bad_lines argument has been deprecated and will be removed in a future version. Use on_bad_lines in the future.\n",
            "\n",
            "\n",
            "  df_galax = pd.read_csv('/content/drive/MyDrive/Colab Notebooks/GalaxyZoo1_DR_table2.csv',error_bad_lines=False)\n"
          ]
        },
        {
          "output_type": "execute_result",
          "data": {
            "text/plain": [
              "                OBJID           RA          DEC  NVOTE   P_EL   P_CW  P_ACW  \\\n",
              "0  587727178986356823  00:00:00.41  -10:22:25.7     59  0.610  0.034  0.000   \n",
              "1  587727227300741210  00:00:00.74  -09:13:20.2     18  0.611  0.000  0.167   \n",
              "2  587727225153257596  00:00:01.03  -10:56:48.0     68  0.735  0.029  0.000   \n",
              "3  587730774962536596  00:00:01.38  +15:30:35.3     52  0.885  0.019  0.000   \n",
              "4  587731186203885750  00:00:01.55  -00:05:33.3     59  0.712  0.000  0.000   \n",
              "\n",
              "   P_EDGE   P_DK   P_MG   P_CS  P_EL_DEBIASED  P_CS_DEBIASED  SPIRAL  \\\n",
              "0   0.153  0.153  0.051  0.186          0.610          0.186       0   \n",
              "1   0.222  0.000  0.000  0.389          0.203          0.797       1   \n",
              "2   0.147  0.074  0.015  0.176          0.432          0.428       0   \n",
              "3   0.058  0.019  0.019  0.077          0.885          0.077       0   \n",
              "4   0.220  0.068  0.000  0.220          0.640          0.290       0   \n",
              "\n",
              "   ELLIPTICAL  UNCERTAIN  \n",
              "0           0          1  \n",
              "1           0          0  \n",
              "2           0          1  \n",
              "3           1          0  \n",
              "4           0          1  "
            ],
            "text/html": [
              "\n",
              "  <div id=\"df-9af48e71-302b-4565-b4db-bf99c52d8eb8\">\n",
              "    <div class=\"colab-df-container\">\n",
              "      <div>\n",
              "<style scoped>\n",
              "    .dataframe tbody tr th:only-of-type {\n",
              "        vertical-align: middle;\n",
              "    }\n",
              "\n",
              "    .dataframe tbody tr th {\n",
              "        vertical-align: top;\n",
              "    }\n",
              "\n",
              "    .dataframe thead th {\n",
              "        text-align: right;\n",
              "    }\n",
              "</style>\n",
              "<table border=\"1\" class=\"dataframe\">\n",
              "  <thead>\n",
              "    <tr style=\"text-align: right;\">\n",
              "      <th></th>\n",
              "      <th>OBJID</th>\n",
              "      <th>RA</th>\n",
              "      <th>DEC</th>\n",
              "      <th>NVOTE</th>\n",
              "      <th>P_EL</th>\n",
              "      <th>P_CW</th>\n",
              "      <th>P_ACW</th>\n",
              "      <th>P_EDGE</th>\n",
              "      <th>P_DK</th>\n",
              "      <th>P_MG</th>\n",
              "      <th>P_CS</th>\n",
              "      <th>P_EL_DEBIASED</th>\n",
              "      <th>P_CS_DEBIASED</th>\n",
              "      <th>SPIRAL</th>\n",
              "      <th>ELLIPTICAL</th>\n",
              "      <th>UNCERTAIN</th>\n",
              "    </tr>\n",
              "  </thead>\n",
              "  <tbody>\n",
              "    <tr>\n",
              "      <th>0</th>\n",
              "      <td>587727178986356823</td>\n",
              "      <td>00:00:00.41</td>\n",
              "      <td>-10:22:25.7</td>\n",
              "      <td>59</td>\n",
              "      <td>0.610</td>\n",
              "      <td>0.034</td>\n",
              "      <td>0.000</td>\n",
              "      <td>0.153</td>\n",
              "      <td>0.153</td>\n",
              "      <td>0.051</td>\n",
              "      <td>0.186</td>\n",
              "      <td>0.610</td>\n",
              "      <td>0.186</td>\n",
              "      <td>0</td>\n",
              "      <td>0</td>\n",
              "      <td>1</td>\n",
              "    </tr>\n",
              "    <tr>\n",
              "      <th>1</th>\n",
              "      <td>587727227300741210</td>\n",
              "      <td>00:00:00.74</td>\n",
              "      <td>-09:13:20.2</td>\n",
              "      <td>18</td>\n",
              "      <td>0.611</td>\n",
              "      <td>0.000</td>\n",
              "      <td>0.167</td>\n",
              "      <td>0.222</td>\n",
              "      <td>0.000</td>\n",
              "      <td>0.000</td>\n",
              "      <td>0.389</td>\n",
              "      <td>0.203</td>\n",
              "      <td>0.797</td>\n",
              "      <td>1</td>\n",
              "      <td>0</td>\n",
              "      <td>0</td>\n",
              "    </tr>\n",
              "    <tr>\n",
              "      <th>2</th>\n",
              "      <td>587727225153257596</td>\n",
              "      <td>00:00:01.03</td>\n",
              "      <td>-10:56:48.0</td>\n",
              "      <td>68</td>\n",
              "      <td>0.735</td>\n",
              "      <td>0.029</td>\n",
              "      <td>0.000</td>\n",
              "      <td>0.147</td>\n",
              "      <td>0.074</td>\n",
              "      <td>0.015</td>\n",
              "      <td>0.176</td>\n",
              "      <td>0.432</td>\n",
              "      <td>0.428</td>\n",
              "      <td>0</td>\n",
              "      <td>0</td>\n",
              "      <td>1</td>\n",
              "    </tr>\n",
              "    <tr>\n",
              "      <th>3</th>\n",
              "      <td>587730774962536596</td>\n",
              "      <td>00:00:01.38</td>\n",
              "      <td>+15:30:35.3</td>\n",
              "      <td>52</td>\n",
              "      <td>0.885</td>\n",
              "      <td>0.019</td>\n",
              "      <td>0.000</td>\n",
              "      <td>0.058</td>\n",
              "      <td>0.019</td>\n",
              "      <td>0.019</td>\n",
              "      <td>0.077</td>\n",
              "      <td>0.885</td>\n",
              "      <td>0.077</td>\n",
              "      <td>0</td>\n",
              "      <td>1</td>\n",
              "      <td>0</td>\n",
              "    </tr>\n",
              "    <tr>\n",
              "      <th>4</th>\n",
              "      <td>587731186203885750</td>\n",
              "      <td>00:00:01.55</td>\n",
              "      <td>-00:05:33.3</td>\n",
              "      <td>59</td>\n",
              "      <td>0.712</td>\n",
              "      <td>0.000</td>\n",
              "      <td>0.000</td>\n",
              "      <td>0.220</td>\n",
              "      <td>0.068</td>\n",
              "      <td>0.000</td>\n",
              "      <td>0.220</td>\n",
              "      <td>0.640</td>\n",
              "      <td>0.290</td>\n",
              "      <td>0</td>\n",
              "      <td>0</td>\n",
              "      <td>1</td>\n",
              "    </tr>\n",
              "  </tbody>\n",
              "</table>\n",
              "</div>\n",
              "      <button class=\"colab-df-convert\" onclick=\"convertToInteractive('df-9af48e71-302b-4565-b4db-bf99c52d8eb8')\"\n",
              "              title=\"Convert this dataframe to an interactive table.\"\n",
              "              style=\"display:none;\">\n",
              "        \n",
              "  <svg xmlns=\"http://www.w3.org/2000/svg\" height=\"24px\"viewBox=\"0 0 24 24\"\n",
              "       width=\"24px\">\n",
              "    <path d=\"M0 0h24v24H0V0z\" fill=\"none\"/>\n",
              "    <path d=\"M18.56 5.44l.94 2.06.94-2.06 2.06-.94-2.06-.94-.94-2.06-.94 2.06-2.06.94zm-11 1L8.5 8.5l.94-2.06 2.06-.94-2.06-.94L8.5 2.5l-.94 2.06-2.06.94zm10 10l.94 2.06.94-2.06 2.06-.94-2.06-.94-.94-2.06-.94 2.06-2.06.94z\"/><path d=\"M17.41 7.96l-1.37-1.37c-.4-.4-.92-.59-1.43-.59-.52 0-1.04.2-1.43.59L10.3 9.45l-7.72 7.72c-.78.78-.78 2.05 0 2.83L4 21.41c.39.39.9.59 1.41.59.51 0 1.02-.2 1.41-.59l7.78-7.78 2.81-2.81c.8-.78.8-2.07 0-2.86zM5.41 20L4 18.59l7.72-7.72 1.47 1.35L5.41 20z\"/>\n",
              "  </svg>\n",
              "      </button>\n",
              "      \n",
              "  <style>\n",
              "    .colab-df-container {\n",
              "      display:flex;\n",
              "      flex-wrap:wrap;\n",
              "      gap: 12px;\n",
              "    }\n",
              "\n",
              "    .colab-df-convert {\n",
              "      background-color: #E8F0FE;\n",
              "      border: none;\n",
              "      border-radius: 50%;\n",
              "      cursor: pointer;\n",
              "      display: none;\n",
              "      fill: #1967D2;\n",
              "      height: 32px;\n",
              "      padding: 0 0 0 0;\n",
              "      width: 32px;\n",
              "    }\n",
              "\n",
              "    .colab-df-convert:hover {\n",
              "      background-color: #E2EBFA;\n",
              "      box-shadow: 0px 1px 2px rgba(60, 64, 67, 0.3), 0px 1px 3px 1px rgba(60, 64, 67, 0.15);\n",
              "      fill: #174EA6;\n",
              "    }\n",
              "\n",
              "    [theme=dark] .colab-df-convert {\n",
              "      background-color: #3B4455;\n",
              "      fill: #D2E3FC;\n",
              "    }\n",
              "\n",
              "    [theme=dark] .colab-df-convert:hover {\n",
              "      background-color: #434B5C;\n",
              "      box-shadow: 0px 1px 3px 1px rgba(0, 0, 0, 0.15);\n",
              "      filter: drop-shadow(0px 1px 2px rgba(0, 0, 0, 0.3));\n",
              "      fill: #FFFFFF;\n",
              "    }\n",
              "  </style>\n",
              "\n",
              "      <script>\n",
              "        const buttonEl =\n",
              "          document.querySelector('#df-9af48e71-302b-4565-b4db-bf99c52d8eb8 button.colab-df-convert');\n",
              "        buttonEl.style.display =\n",
              "          google.colab.kernel.accessAllowed ? 'block' : 'none';\n",
              "\n",
              "        async function convertToInteractive(key) {\n",
              "          const element = document.querySelector('#df-9af48e71-302b-4565-b4db-bf99c52d8eb8');\n",
              "          const dataTable =\n",
              "            await google.colab.kernel.invokeFunction('convertToInteractive',\n",
              "                                                     [key], {});\n",
              "          if (!dataTable) return;\n",
              "\n",
              "          const docLinkHtml = 'Like what you see? Visit the ' +\n",
              "            '<a target=\"_blank\" href=https://colab.research.google.com/notebooks/data_table.ipynb>data table notebook</a>'\n",
              "            + ' to learn more about interactive tables.';\n",
              "          element.innerHTML = '';\n",
              "          dataTable['output_type'] = 'display_data';\n",
              "          await google.colab.output.renderOutput(dataTable, element);\n",
              "          const docLink = document.createElement('div');\n",
              "          docLink.innerHTML = docLinkHtml;\n",
              "          element.appendChild(docLink);\n",
              "        }\n",
              "      </script>\n",
              "    </div>\n",
              "  </div>\n",
              "  "
            ]
          },
          "metadata": {},
          "execution_count": 2
        }
      ]
    },
    {
      "cell_type": "code",
      "source": [
        "df_galax.columns"
      ],
      "metadata": {
        "id": "HuK3rNcQAUSV",
        "colab": {
          "base_uri": "https://localhost:8080/"
        },
        "outputId": "e2a46fa4-5aa4-4b2a-c8f2-22f0ccbc6da1"
      },
      "execution_count": null,
      "outputs": [
        {
          "output_type": "execute_result",
          "data": {
            "text/plain": [
              "Index(['OBJID', 'RA', 'DEC', 'NVOTE', 'P_EL', 'P_CW', 'P_ACW', 'P_EDGE',\n",
              "       'P_DK', 'P_MG', 'P_CS', 'P_EL_DEBIASED', 'P_CS_DEBIASED', 'SPIRAL',\n",
              "       'ELLIPTICAL', 'UNCERTAIN'],\n",
              "      dtype='object')"
            ]
          },
          "metadata": {},
          "execution_count": 3
        }
      ]
    },
    {
      "cell_type": "code",
      "source": [
        "print('Data Types:')\n",
        "print(df_galax.dtypes)\n",
        "print('')\n",
        "print('')\n",
        "print('Data Shape:')\n",
        "print(df_galax.shape)"
      ],
      "metadata": {
        "id": "Pj8TQhs0F52-",
        "colab": {
          "base_uri": "https://localhost:8080/"
        },
        "outputId": "a89979df-06c0-4a91-fdb2-2fb2070054dc"
      },
      "execution_count": null,
      "outputs": [
        {
          "output_type": "stream",
          "name": "stdout",
          "text": [
            "Data Types:\n",
            "OBJID              int64\n",
            "RA                object\n",
            "DEC               object\n",
            "NVOTE              int64\n",
            "P_EL             float64\n",
            "P_CW             float64\n",
            "P_ACW            float64\n",
            "P_EDGE           float64\n",
            "P_DK             float64\n",
            "P_MG             float64\n",
            "P_CS             float64\n",
            "P_EL_DEBIASED    float64\n",
            "P_CS_DEBIASED    float64\n",
            "SPIRAL             int64\n",
            "ELLIPTICAL         int64\n",
            "UNCERTAIN          int64\n",
            "dtype: object\n",
            "\n",
            "\n",
            "Data Shape:\n",
            "(667944, 16)\n"
          ]
        }
      ]
    },
    {
      "cell_type": "markdown",
      "source": [
        "The first column is a unique identifier which cannot be a feature for our model, and the second and third columns are the absolute positions of galaxies which do not correlate with our classes/targets, so we can remove them all"
      ],
      "metadata": {
        "id": "dYWaeQBtF7Cg"
      }
    },
    {
      "cell_type": "code",
      "source": [
        "data =df_galax.drop(['OBJID','RA','DEC'],axis=1)"
      ],
      "metadata": {
        "id": "VtaYXNc5F97M"
      },
      "execution_count": null,
      "outputs": []
    },
    {
      "cell_type": "code",
      "source": [
        "data.isnull().sum().sort_values(ascending=False)"
      ],
      "metadata": {
        "id": "ohD_G3Z3I5qN",
        "colab": {
          "base_uri": "https://localhost:8080/"
        },
        "outputId": "e453faef-72a6-4ab4-9d59-5177825675ef"
      },
      "execution_count": null,
      "outputs": [
        {
          "output_type": "execute_result",
          "data": {
            "text/plain": [
              "NVOTE            0\n",
              "P_EL             0\n",
              "P_CW             0\n",
              "P_ACW            0\n",
              "P_EDGE           0\n",
              "P_DK             0\n",
              "P_MG             0\n",
              "P_CS             0\n",
              "P_EL_DEBIASED    0\n",
              "P_CS_DEBIASED    0\n",
              "SPIRAL           0\n",
              "ELLIPTICAL       0\n",
              "UNCERTAIN        0\n",
              "dtype: int64"
            ]
          },
          "metadata": {},
          "execution_count": 6
        }
      ]
    },
    {
      "cell_type": "code",
      "source": [],
      "metadata": {
        "id": "lIfMSr4TJyIh"
      },
      "execution_count": null,
      "outputs": []
    },
    {
      "cell_type": "code",
      "source": [
        "data.isnull().sum().sort_values(ascending=False)"
      ],
      "metadata": {
        "id": "IFIwYnxeJvvo",
        "colab": {
          "base_uri": "https://localhost:8080/"
        },
        "outputId": "96f27275-0beb-4bc7-aa55-6af87845226e"
      },
      "execution_count": null,
      "outputs": [
        {
          "output_type": "execute_result",
          "data": {
            "text/plain": [
              "NVOTE            0\n",
              "P_EL             0\n",
              "P_CW             0\n",
              "P_ACW            0\n",
              "P_EDGE           0\n",
              "P_DK             0\n",
              "P_MG             0\n",
              "P_CS             0\n",
              "P_EL_DEBIASED    0\n",
              "P_CS_DEBIASED    0\n",
              "SPIRAL           0\n",
              "ELLIPTICAL       0\n",
              "UNCERTAIN        0\n",
              "dtype: int64"
            ]
          },
          "metadata": {},
          "execution_count": 7
        }
      ]
    },
    {
      "cell_type": "code",
      "source": [
        "plt.figure(figsize=(15,8))\n",
        "plt.title('Count plot for Galaxy types ')\n",
        "countplt = data[['SPIRAL','ELLIPTICAL','UNCERTAIN']]\n",
        "sns.countplot(x=\"variable\",hue='value', data=pd.melt(countplt))\n",
        "plt.xlabel('Classes')\n",
        "plt.show()"
      ],
      "metadata": {
        "id": "GVDwCyotGFFz",
        "colab": {
          "base_uri": "https://localhost:8080/",
          "height": 716
        },
        "outputId": "31652d8a-8b23-4363-8614-5144ae1ef812"
      },
      "execution_count": null,
      "outputs": [
        {
          "output_type": "display_data",
          "data": {
            "text/plain": [
              "<Figure size 1500x800 with 1 Axes>"
            ],
            "image/png": "[encoded data removed]"
          },
          "metadata": {}
        }
      ]
    },
    {
      "cell_type": "code",
      "source": [
        "x = data.drop(['SPIRAL','ELLIPTICAL','UNCERTAIN'],axis=1).values\n",
        "y = data[['SPIRAL','ELLIPTICAL','UNCERTAIN']].values"
      ],
      "metadata": {
        "id": "ViwXlobGGNcx"
      },
      "execution_count": null,
      "outputs": []
    },
    {
      "cell_type": "code",
      "source": [
        "# Separamos los datos en dos: training data y testing data\n",
        "# random state : \"semilla\", es útil para que el'pipeline' sea determinista\n",
        "x_train, x_test, y_train, y_test = train_test_split(x,y,test_size=0.20,\n",
        "                                                    random_state=42, stratify=y)"
      ],
      "metadata": {
        "id": "kLxVdDEGGnYY"
      },
      "execution_count": null,
      "outputs": []
    },
    {
      "cell_type": "markdown",
      "source": [
        "Feature scaling is a fundamental technique in data preprocessing for machine and deep learning models. It involves transforming the range of features to a standardized scale, typically between 0 and 1 or -1 and 1, to improve model performance. Feature scaling is necessary because features can have different units, scales, and distributions, which can affect model convergence and accuracy. By scaling features, we can ensure that all features contribute equally to the model's predictions, reducing the impact of features with larger values. Scaling can also help to improve the efficiency of some machine learning algorithms, such as gradient descent, by reducing the number of iterations needed for convergence. \n",
        "\n"
      ],
      "metadata": {
        "id": "DUNbeaNMKYwL"
      }
    },
    {
      "cell_type": "code",
      "source": [
        " #References\n",
        " \n",
        "from IPython.core.display import HTML\n",
        "HTML(\"<a href='https://scikit-learn.org/stable/modules/preprocessing.html' target='_blank'>scikit-learn preprocessing documentation</a>\")"
      ],
      "metadata": {
        "colab": {
          "base_uri": "https://localhost:8080/",
          "height": 34
        },
        "id": "X08r_RafX0-H",
        "outputId": "077f4968-95da-42bd-c3be-a4b0ff5bc0a2"
      },
      "execution_count": null,
      "outputs": [
        {
          "output_type": "execute_result",
          "data": {
            "text/plain": [
              "<IPython.core.display.HTML object>"
            ],
            "text/html": [
              "<a href='https://scikit-learn.org/stable/modules/preprocessing.html' target='_blank'>scikit-learn preprocessing documentation</a>"
            ]
          },
          "metadata": {},
          "execution_count": 11
        }
      ]
    },
    {
      "cell_type": "code",
      "source": [
        "# Feature scaling\n",
        "sc = StandardScaler()\n",
        "x_train = sc.fit_transform(x_train)\n",
        "x_test = sc.transform(x_test)"
      ],
      "metadata": {
        "id": "d86WN8XlU7BR"
      },
      "execution_count": null,
      "outputs": []
    },
    {
      "cell_type": "code",
      "source": [
        "corr_mat= data.corr(method='pearson')  \n",
        "plt.figure(figsize=(16,10))\n",
        "dataplot = sns.heatmap(corr_mat,annot=True)  \n",
        "plt.show()"
      ],
      "metadata": {
        "id": "uAuT02FfVrri",
        "colab": {
          "base_uri": "https://localhost:8080/",
          "height": 936
        },
        "outputId": "d02196b3-04eb-4f22-f738-7d3748f93ff7"
      },
      "execution_count": null,
      "outputs": [
        {
          "output_type": "display_data",
          "data": {
            "text/plain": [
              "<Figure size 1600x1000 with 2 Axes>"
            ],
            "image/png": "[encoded data removed]"
          },
          "metadata": {}
        }
      ]
    },
    {
      "cell_type": "code",
      "source": [
        "#param = {'hidden_layer_sizes':[10,50,100,200,300],'activation':['relu','identity','logistic'],\n",
        "         #'alpha':[0.0001,0.001,0.01],'momentum':[0.95,0.90,0.85,0.80],\n",
        "         #'learning_rate_init':[0.001,0.01,0.1],'n_iter_no_change':[10,20,30,40,50],\n",
        "         #'learning_rate':['constant','invscaling','adaptive']}\n",
        "# 'Momentum'for gradient descent update. Should be between 0 and 1\n",
        "# 'constant' is a constant learning rate given by 'learning_rate_int'.\n",
        "# 'invscaling' gradually decreases the learning rate at each time step 't' using an inverse scaling exponent\n",
        "# 'adaptive' keeps the learning rate constant to 'learning_rate_init' as long as training loss keeps decreasing\n",
        "# or fall to increase validation socre by at least the tolerance the\n",
        "# current learning rate is divided by\n",
        "\n",
        "#mlp = MLPClassifier(max_iter=10000,early_stopping=True,random_state=0)\n",
        "#mlp_bs = BayesSearchCV(mlp,param,n_iter=15,cv=5,n_jobs=-1,refit=True,random_state=0)\n",
        "#mlp_bs.name = 'Multilayer Perceptron Neural Network'\n",
        "#mlp_bs.fit(x_train, y_train)"
      ],
      "metadata": {
        "id": "e4ro861AGtNw"
      },
      "execution_count": null,
      "outputs": []
    },
    {
      "cell_type": "code",
      "source": [
        "cl_xgb = xgb.XGBClassifier()\n",
        "cl_xgb.name = 'Extreme Gradient Boosting (XGB)'"
      ],
      "metadata": {
        "id": "VOSbuBCnWgFq"
      },
      "execution_count": null,
      "outputs": []
    },
    {
      "cell_type": "code",
      "source": [
        "acc = []\n",
        "model = []\n",
        "Classifiers_list = [cl_xgb]\n",
        "\n",
        "# Pending:\n",
        "#[cl_lr, cl_rf_opt, cl_kn_opt, cl_dt, cl_xgb, cl_gnb,cl_svm_pol,cl_svm_rbf,cl_svm_sig,cl_svm_lin,mlp_bs]"
      ],
      "metadata": {
        "id": "uUpV5BweY1VP"
      },
      "execution_count": null,
      "outputs": []
    },
    {
      "cell_type": "code",
      "source": [
        "cl_xgb.fit(x_train, y_train)\n",
        "y_pred = cl_xgb.predict(x_test)"
      ],
      "metadata": {
        "id": "pn6Q0DVbeMqY"
      },
      "execution_count": null,
      "outputs": []
    },
    {
      "cell_type": "code",
      "source": [
        "metric = metrics.accuracy_score(y_test, y_pred)\n",
        "acc.append(x)\n",
        "model.append(cl_xgb.name)\n",
        "print(str(cl_xgb.name) + \" \" + \"Accuracy is: \", metric.round(4))"
      ],
      "metadata": {
        "colab": {
          "base_uri": "https://localhost:8080/"
        },
        "id": "H9PQB8ooahBK",
        "outputId": "417441fd-b805-45ea-df6d-2e7f43603f35"
      },
      "execution_count": null,
      "outputs": [
        {
          "output_type": "stream",
          "name": "stdout",
          "text": [
            "Extreme Gradient Boosting (XGB) Accuracy is:  0.8946\n"
          ]
        }
      ]
    },
    {
      "cell_type": "code",
      "source": [
        "#df_pred = pd.DataFrame[x_test,y_test,y_pred]\n",
        "print(y_pred)\n",
        "print(y_test)"
      ],
      "metadata": {
        "colab": {
          "base_uri": "https://localhost:8080/"
        },
        "id": "eRBT7JOVa2FZ",
        "outputId": "8b1e94a6-630f-4e8e-a147-f32f22655082"
      },
      "execution_count": null,
      "outputs": [
        {
          "output_type": "stream",
          "name": "stdout",
          "text": [
            "[[0. 0. 1.]\n",
            " [0. 0. 1.]\n",
            " [0. 0. 1.]\n",
            " ...\n",
            " [1. 0. 0.]\n",
            " [1. 0. 0.]\n",
            " [0. 0. 1.]]\n",
            "[[1 0 0]\n",
            " [1 0 0]\n",
            " [0 0 1]\n",
            " ...\n",
            " [1 0 0]\n",
            " [1 0 0]\n",
            " [0 0 1]]\n"
          ]
        }
      ]
    },
    {
      "cell_type": "markdown",
      "source": [
        "When using classification models in machine learning, there are three common metrics that we use to assess the quality of the model:\n",
        "\n",
        "1. ## Precision: \n",
        "Percentage of correct positive predictions relative to total positive predictions.\n",
        "\n",
        "2. ## Recall: \n",
        "Percentage of correct positive predictions relative to total actual positives.\n",
        "\n",
        "3. ## F1 Score: \n",
        "A weighted harmonic mean of precision and recall. The closer to 1, the better the model.\n",
        "\n",
        "F1 Score: 2 * (Precision * Recall) / (Precision + Recall)\n",
        "\n",
        "Using these three metrics, we can understand how well a given classification model is able to predict the outcomes for some response variable."
      ],
      "metadata": {
        "id": "z2WgA2EAkLOd"
      }
    },
    {
      "cell_type": "code",
      "source": [
        "   print(metrics.classification_report(y_test, y_pred, target_names=['SPIRAL','ELLIPTICAL','UNCERTAIN']))\n",
        "    #print(metrics.confusion_matrix(y_test, y_pred))"
      ],
      "metadata": {
        "colab": {
          "base_uri": "https://localhost:8080/"
        },
        "id": "_fcI6taKhMHP",
        "outputId": "ae8dde70-b59b-4fa3-f8e7-2210c9efa39f"
      },
      "execution_count": null,
      "outputs": [
        {
          "output_type": "stream",
          "name": "stdout",
          "text": [
            "              precision    recall  f1-score   support\n",
            "\n",
            "      SPIRAL       0.87      0.89      0.88     38045\n",
            "  ELLIPTICAL       0.86      0.82      0.84     12438\n",
            "   UNCERTAIN       0.92      0.92      0.92     83106\n",
            "\n",
            "   micro avg       0.90      0.90      0.90    133589\n",
            "   macro avg       0.89      0.88      0.88    133589\n",
            "weighted avg       0.90      0.90      0.90    133589\n",
            " samples avg       0.90      0.90      0.90    133589\n",
            "\n"
          ]
        },
        {
          "output_type": "stream",
          "name": "stderr",
          "text": [
            "/usr/local/lib/python3.9/dist-packages/sklearn/metrics/_classification.py:1344: UndefinedMetricWarning: Precision and F-score are ill-defined and being set to 0.0 in samples with no predicted labels. Use `zero_division` parameter to control this behavior.\n",
            "  _warn_prf(average, modifier, msg_start, len(result))\n"
          ]
        }
      ]
    },
    {
      "cell_type": "code",
      "source": [
        "param = {'hidden_layer_sizes':[10,50,100,200,300],'activation':['relu','identity','logistic'],\n",
        "         'alpha':[0.0001,0.001,0.01],'momentum':[0.95,0.90,0.85,0.80],\n",
        "         'learning_rate_init':[0.001,0.01,0.1],'n_iter_no_change':[10,20,30,40,50],\n",
        "         'learning_rate':['constant','invscaling','adaptive']}\n",
        "\n",
        "mlp = MLPClassifier(hidden_layer_sizes = 10, max_iter=10000,early_stopping=True,random_state=0)\n",
        "mlp.fit(x_train,y_train)\n",
        "y_pred = mlp.predict(x_test)\n",
        "print(metrics.classification_report(y_test, y_pred, target_names=['SPIRAL','ELLIPTICAL','UNCERTAIN']))"
      ],
      "metadata": {
        "colab": {
          "base_uri": "https://localhost:8080/"
        },
        "id": "HbCyWv5LpOeA",
        "outputId": "7a47b5f9-c251-41d0-8e78-e9b2372195b9"
      },
      "execution_count": null,
      "outputs": [
        {
          "output_type": "stream",
          "name": "stdout",
          "text": [
            "              precision    recall  f1-score   support\n",
            "\n",
            "      SPIRAL       0.87      0.90      0.88     38045\n",
            "  ELLIPTICAL       0.89      0.77      0.82     12438\n",
            "   UNCERTAIN       0.92      0.92      0.92     83106\n",
            "\n",
            "   micro avg       0.90      0.90      0.90    133589\n",
            "   macro avg       0.89      0.86      0.87    133589\n",
            "weighted avg       0.90      0.90      0.90    133589\n",
            " samples avg       0.90      0.90      0.90    133589\n",
            "\n"
          ]
        },
        {
          "output_type": "stream",
          "name": "stderr",
          "text": [
            "/usr/local/lib/python3.9/dist-packages/sklearn/metrics/_classification.py:1344: UndefinedMetricWarning: Precision and F-score are ill-defined and being set to 0.0 in samples with no predicted labels. Use `zero_division` parameter to control this behavior.\n",
            "  _warn_prf(average, modifier, msg_start, len(result))\n"
          ]
        }
      ]
    },
    {
      "cell_type": "code",
      "source": [],
      "metadata": {
        "id": "RvJBfmhM2pdA"
      },
      "execution_count": null,
      "outputs": []
    },
    {
      "cell_type": "markdown",
      "source": [
        "# Using Pytorch"
      ],
      "metadata": {
        "id": "dr3QwL1Q2qQp"
      }
    },
    {
      "cell_type": "code",
      "source": [
        "import torch\n",
        "torch.__version__"
      ],
      "metadata": {
        "colab": {
          "base_uri": "https://localhost:8080/",
          "height": 36
        },
        "id": "tQLUVPggzmwi",
        "outputId": "2da33ed6-aafc-45b6-d43c-dbaed3c93fc1"
      },
      "execution_count": null,
      "outputs": [
        {
          "output_type": "execute_result",
          "data": {
            "text/plain": [
              "'2.0.0+cu118'"
            ],
            "application/vnd.google.colaboratory.intrinsic+json": {
              "type": "string"
            }
          },
          "metadata": {},
          "execution_count": 22
        }
      ]
    },
    {
      "cell_type": "markdown",
      "source": [
        "## 1.2 Turn data into tensors and create train and test splits\n",
        "\n",
        "We've investigated the input and output shapes of our data, now let's prepare it for being used with PyTorch and for modelling.\n",
        "\n",
        "Specifically, we'll need to:\n",
        "\n",
        "Turn our data into tensors (right now our data is in NumPy arrays and PyTorch prefers to work with PyTorch tensors).\n",
        "Split our data into training and test sets (we'll train a model on the training set to learn the patterns between X and y and then evaluate those learned patterns on the test dataset)."
      ],
      "metadata": {
        "id": "LgbbqNOZ7PPF"
      }
    },
    {
      "cell_type": "markdown",
      "source": [
        " ! [Imagen] (https://raw.githubusercontent.com/mrdbourke/pytorch-deep-learning/main/images/01-machine-learning-a-game-of-two-parts.png)\n",
        "\n",
        "\n"
      ],
      "metadata": {
        "id": "8vsm7ljP0AkW"
      }
    },
    {
      "cell_type": "code",
      "source": [
        "X = torch.from_numpy(np.asarray(x)).type(torch.float)\n",
        "Y = torch.from_numpy(np.asarray(y)).type(torch.float)\n"
      ],
      "metadata": {
        "id": "ed7bPeDC0tH8"
      },
      "execution_count": null,
      "outputs": []
    },
    {
      "cell_type": "code",
      "source": [
        "X, Y"
      ],
      "metadata": {
        "colab": {
          "base_uri": "https://localhost:8080/"
        },
        "id": "4UdsCp224vvk",
        "outputId": "b8a26f45-beb8-4408-de8f-f71df249369a"
      },
      "execution_count": null,
      "outputs": [
        {
          "output_type": "execute_result",
          "data": {
            "text/plain": [
              "(tensor([[5.9000e+01, 6.1000e-01, 3.4000e-02,  ..., 1.8600e-01, 6.1000e-01,\n",
              "          1.8600e-01],\n",
              "         [1.8000e+01, 6.1100e-01, 0.0000e+00,  ..., 3.8900e-01, 2.0300e-01,\n",
              "          7.9700e-01],\n",
              "         [6.8000e+01, 7.3500e-01, 2.9000e-02,  ..., 1.7600e-01, 4.3200e-01,\n",
              "          4.2800e-01],\n",
              "         ...,\n",
              "         [2.8000e+01, 2.8600e-01, 0.0000e+00,  ..., 4.6400e-01, 9.9000e-02,\n",
              "          6.0300e-01],\n",
              "         [2.3000e+01, 3.9100e-01, 0.0000e+00,  ..., 4.3000e-02, 3.9000e-01,\n",
              "          4.5000e-02],\n",
              "         [5.4000e+01, 5.5600e-01, 0.0000e+00,  ..., 3.7000e-01, 1.5300e-01,\n",
              "          7.2200e-01]]),\n",
              " tensor([[0., 0., 1.],\n",
              "         [1., 0., 0.],\n",
              "         [0., 0., 1.],\n",
              "         ...,\n",
              "         [0., 0., 1.],\n",
              "         [0., 0., 1.],\n",
              "         [1., 0., 0.]]))"
            ]
          },
          "metadata": {},
          "execution_count": 24
        }
      ]
    },
    {
      "cell_type": "markdown",
      "source": [
        "\n",
        "Now our data is in tensor format, let's split it into training and test sets.\n",
        "\n",
        "To do so, let's use the helpful function train_test_split() from Scikit-Learn.\n",
        "\n",
        "We'll use test_size=0.2 (80% training, 20% testing) and because the split happens randomly across the data, let's use random_state=42 so the split is reproducible."
      ],
      "metadata": {
        "id": "K4-AwVM763LN"
      }
    },
    {
      "cell_type": "code",
      "source": [
        "\n",
        "# Split data into train and test sets\n",
        "from sklearn.model_selection import train_test_split\n",
        "\n",
        "X_train, X_test, Y_train, Y_test = train_test_split(X, \n",
        "                                                    Y, \n",
        "                                                    test_size=0.2, # 20% test, 80% train\n",
        "                                                    random_state=42) # make the random split reproducible\n",
        "\n",
        "len(X_train), len(X_test), len(Y_train), len(Y_test)"
      ],
      "metadata": {
        "colab": {
          "base_uri": "https://localhost:8080/"
        },
        "id": "36aLITYR3iqx",
        "outputId": "b3658910-fb0a-433a-c13f-f2b8e83330e8"
      },
      "execution_count": null,
      "outputs": [
        {
          "output_type": "execute_result",
          "data": {
            "text/plain": [
              "(534355, 133589, 534355, 133589)"
            ]
          },
          "metadata": {},
          "execution_count": 25
        }
      ]
    },
    {
      "cell_type": "markdown",
      "source": [
        "# 2. Building a model\n",
        "We've got some data ready, now it's time to build a model.\n",
        "\n",
        "We'll break it down into a few parts.\n",
        "\n",
        "Setting up device agnostic code (so our model can run on CPU or GPU if it's available).\n",
        "Constructing a model by subclassing nn.Module.\n",
        "Defining a loss function and optimizer.\n",
        "Creating a training loop (this'll be in the next section).\n",
        "The good news is we've been through all of the above steps before in notebook 01.\n",
        "\n",
        "Except now we'll be adjusting them so they work with a classification dataset.\n",
        "\n",
        "Let's start by importing PyTorch and torch.nn as well as setting up device agnostic code."
      ],
      "metadata": {
        "id": "m5zfehbs6_j2"
      }
    },
    {
      "cell_type": "code",
      "source": [
        "# Standard PyTorch imports\n",
        "from torch import nn\n",
        "\n",
        "# Make device agnostic code\n",
        "device = \"cuda\" if torch.cuda.is_available() else \"cpu\"\n",
        "device"
      ],
      "metadata": {
        "colab": {
          "base_uri": "https://localhost:8080/",
          "height": 36
        },
        "id": "wRXucu657Zep",
        "outputId": "f20e379d-c604-4117-efb0-a95243d9bdeb"
      },
      "execution_count": null,
      "outputs": [
        {
          "output_type": "execute_result",
          "data": {
            "text/plain": [
              "'cpu'"
            ],
            "application/vnd.google.colaboratory.intrinsic+json": {
              "type": "string"
            }
          },
          "metadata": {},
          "execution_count": 26
        }
      ]
    },
    {
      "cell_type": "markdown",
      "source": [
        "We'll want a model capable of handling our X data as inputs and producing something in the shape of our y data as ouputs.\n",
        "\n",
        "In other words, given X (features) we want our model to predict y (label).\n",
        "\n",
        "This setup where you have features and labels is referred to as supervised learning. Because your data is telling your model what the outputs should be given a certain input.\n",
        "\n",
        "To create such a model it'll need to handle the input and output shapes of X and y.\n",
        "\n",
        "Remember how I said input and output shapes are important? Here we'll see why.\n",
        "\n",
        "Let's create a model class that:\n",
        "\n",
        "Subclasses nn.Module (almost all PyTorch models are subclasses of nn.Module).\n",
        "Creates 2 nn.Linear layers in the constructor capable of handling the input and output shapes of X and y.\n",
        "Defines a forward() method containing the forward pass computation of the model.\n",
        "Instantiates the model class and sends it to the target device."
      ],
      "metadata": {
        "id": "0drKxgmT7oEP"
      }
    },
    {
      "cell_type": "code",
      "source": [
        "# 1. Construct a model class that subclasses nn.Module\n",
        "class CircleModelV0(nn.Module):\n",
        "    def __init__(self):\n",
        "        super().__init__()\n",
        "        # 2. Create 2 nn.Linear layers capable of handling X and y input and output shapes\n",
        "        self.layer_1 = nn.Linear(in_features=10, out_features=20) # takes in 10 features (X), produces 20 features\n",
        "        self.layer_2 = nn.Linear(in_features=20, out_features=3) # takes in 20 features, produces 3 featureS (y)\n",
        "    \n",
        "    # 3. Define a forward method containing the forward pass computation\n",
        "    def forward(self, X):\n",
        "        # Return the output of layer_2, a single feature, the same shape as y\n",
        "        return self.layer_2(self.layer_1(X)) # computation goes through layer_1 first then the output of layer_1 goes through layer_2\n",
        "\n",
        "# 4. Create an instance of the model and send it to target device\n",
        "model_0 = CircleModelV0().to(device)\n",
        "model_0"
      ],
      "metadata": {
        "colab": {
          "base_uri": "https://localhost:8080/"
        },
        "id": "iyzeZeWs7p45",
        "outputId": "372efb21-6fd6-4231-8417-0caca1a370d9"
      },
      "execution_count": null,
      "outputs": [
        {
          "output_type": "execute_result",
          "data": {
            "text/plain": [
              "CircleModelV0(\n",
              "  (layer_1): Linear(in_features=10, out_features=20, bias=True)\n",
              "  (layer_2): Linear(in_features=20, out_features=3, bias=True)\n",
              ")"
            ]
          },
          "metadata": {},
          "execution_count": 27
        }
      ]
    },
    {
      "cell_type": "markdown",
      "source": [
        "What's going on here?\n",
        "\n",
        "We've seen a few of these steps before.\n",
        "\n",
        "The only major change is what's happening between self.layer_1 and self.layer_2.\n",
        "\n",
        "self.layer_1 takes 2 input features in_features=2 and produces 5 output features out_features=5.\n",
        "\n",
        "This is known as having 5 hidden units or neurons.\n",
        "\n",
        "This layer turns the input data from having 2 features to 5 features.\n",
        "\n",
        "Why do this?\n",
        "\n",
        "This allows the model to learn patterns from 5 numbers rather than just 2 numbers, potentially leading to better outputs.\n",
        "\n",
        "I say potentially because sometimes it doesn't work.\n",
        "\n",
        "The number of hidden units you can use in neural network layers is a hyperparameter (a value you can set yourself) and there's no set in stone value you have to use.\n",
        "\n",
        "Generally more is better but there's also such a thing as too much. The amount you choose will depend on your model type and dataset you're working with.\n",
        "\n",
        "Since our dataset is small and simple, we'll keep it small.\n",
        "\n",
        "The only rule with hidden units is that the next layer, in our case, self.layer_2 has to take the same in_features as the previous layer out_features.\n",
        "\n",
        "That's why self.layer_2 has in_features=5, it takes the out_features=5 from self.layer_1 and performs a linear computation on them, turning them into out_features=1 (the same shape as y)."
      ],
      "metadata": {
        "id": "LE_qyeMW74en"
      }
    },
    {
      "cell_type": "code",
      "source": [
        "# Make predictions with the model\n",
        "untrained_preds = model_0(X_test.to(device))\n",
        "print(f\"Length of predictions: {len(untrained_preds)}, Shape: {untrained_preds.shape}\")\n",
        "print(f\"Length of test samples: {len(Y_test)}, Shape: {Y_test.shape}\")\n",
        "print(f\"\\nFirst 10 predictions:\\n{untrained_preds[:10]}\")\n",
        "print(f\"\\nFirst 10 test labels:\\n{Y_test[:10]}\")"
      ],
      "metadata": {
        "colab": {
          "base_uri": "https://localhost:8080/"
        },
        "id": "rB5OluYD9lWO",
        "outputId": "10b6092f-78e8-4a54-a704-d67b3fea5e7f"
      },
      "execution_count": null,
      "outputs": [
        {
          "output_type": "stream",
          "name": "stdout",
          "text": [
            "Length of predictions: 133589, Shape: torch.Size([133589, 3])\n",
            "Length of test samples: 133589, Shape: torch.Size([133589, 3])\n",
            "\n",
            "First 10 predictions:\n",
            "tensor([[-9.4059, -5.5992,  5.3674],\n",
            "        [-9.2321, -5.6455,  5.3573],\n",
            "        [-8.0064, -4.7566,  4.5665],\n",
            "        [-7.9602, -4.7709,  4.6284],\n",
            "        [-5.9735, -3.5478,  3.3242],\n",
            "        [-5.4018, -3.1997,  3.0022],\n",
            "        [-9.0096, -5.3448,  5.1448],\n",
            "        [-7.6470, -4.5429,  4.3140],\n",
            "        [-7.4040, -4.4324,  4.2119],\n",
            "        [-9.6352, -5.7488,  5.5231]], grad_fn=<SliceBackward0>)\n",
            "\n",
            "First 10 test labels:\n",
            "tensor([[0., 0., 1.],\n",
            "        [1., 0., 0.],\n",
            "        [0., 0., 1.],\n",
            "        [0., 0., 1.],\n",
            "        [1., 0., 0.],\n",
            "        [0., 0., 1.],\n",
            "        [0., 0., 1.],\n",
            "        [0., 0., 1.],\n",
            "        [0., 0., 1.],\n",
            "        [0., 0., 1.]])\n"
          ]
        }
      ]
    },
    {
      "cell_type": "markdown",
      "source": [
        "The predictions don't look like they're in the same form or shape as the test labels.\n",
        "\n",
        "We've got a couple steps we can do to fix this."
      ],
      "metadata": {
        "id": "LpsTkm3V9yhd"
      }
    },
    {
      "cell_type": "markdown",
      "source": [
        "### PyTorch has two binary cross entropy implementations:\n",
        "\n",
        "          torch.nn.BCELoss() \n",
        "- Creates a loss function that measures the binary cross entropy between the target (label) and input (features).\n",
        "\n",
        "         torch.nn.BCEWithLogitsLoss() \n",
        "- This is the same as above except it has a sigmoid layer (nn.Sigmoid) built-in (we'll see what this means soon).\n",
        "Which one should you use?\n",
        "\n",
        " The documentation for torch.nn.BCEWithLogitsLoss() states that it's more numerically stable than using torch.nn.BCELoss() after a nn.Sigmoid layer.\n",
        "\n",
        "So generally, implementation 2 is a better option. However for advanced usage, you may want to separate the combination of nn.Sigmoid and torch.nn.BCELoss() but that is beyond the scope of this notebook.\n",
        "\n"
      ],
      "metadata": {
        "id": "_EgfhLwT-fKQ"
      }
    },
    {
      "cell_type": "markdown",
      "source": [
        " ## Loss function & Optimizer.\n",
        "\n",
        "For the optimizer we'll use torch.optim.SGD() to optimize the model parameters with learning rate 0.1."
      ],
      "metadata": {
        "id": "6LDwpMoBQK02"
      }
    },
    {
      "cell_type": "code",
      "source": [
        "# Create a loss function\n",
        "# loss_fn = nn.BCELoss() # BCELoss = no sigmoid built-in\n",
        "loss_fn = nn.BCEWithLogitsLoss() # BCEWithLogitsLoss = sigmoid built-in\n",
        "\n",
        "# Create an optimizer\n",
        "optimizer = torch.optim.SGD(params=model_0.parameters(), \n",
        "                            lr=0.1)"
      ],
      "metadata": {
        "id": "wweDdOob9zYg"
      },
      "execution_count": null,
      "outputs": []
    },
    {
      "cell_type": "markdown",
      "source": [
        "### Evaluation metric.\n",
        "\n",
        "An evaluation metric can be used to offer another perspective on how the model is going.\n",
        "\n",
        "If a loss function measures how wrong your model is, I like to think of evaluation metrics as measuring how right it is.\n",
        "\n",
        "\n",
        "There are several evaluation metrics that can be used for classification problems but let's start out with accuracy.\n",
        "\n",
        "- Accuracy can be measured by dividing the total number of correct predictions over the total number of predictions.\n",
        "\n",
        "\n",
        "\n"
      ],
      "metadata": {
        "id": "XhddPP9y-ltI"
      }
    },
    {
      "cell_type": "code",
      "source": [
        "# Calculate accuracy (a classification metric)\n",
        "def accuracy_fn(Y_test, Y_pred):\n",
        "    correct = torch.eq(Y_test, Y_pred).sum().item() # torch.eq() calculates where two tensors are equal\n",
        "    acc = (correct / len(Y_pred)) * 100 \n",
        "    return acc"
      ],
      "metadata": {
        "id": "6jzGNgeE-mVB"
      },
      "execution_count": null,
      "outputs": []
    },
    {
      "cell_type": "markdown",
      "source": [
        "\n",
        "# 3. Train model\n",
        "* Forward pass - The model goes through all of the training data once, performing its forward() function calculations (model(x_train)).\n",
        "\n",
        "* Calculate the loss - The model's outputs (predictions) are compared to the ground truth and evaluated to see how wrong they are (loss = loss_fn(y_pred, y_train).\n",
        "\n",
        "* Zero gradients - The optimizers gradients are set to zero (they are accumulated by default) so they can be recalculated for the specific training step (optimizer.zero_grad()).\n",
        "\n",
        "* Perform backpropagation on the loss - Computes the gradient of the loss with respect for every model parameter to be updated (each parameter with requires_grad=True). This is known as backpropagation, hence \"backwards\" (loss.backward()).\n",
        "\n",
        "* Step the optimizer (gradient descent) - Update the parameters with requires_grad=True with respect to the loss gradients in order to improve them (optimizer.step())."
      ],
      "metadata": {
        "id": "43iWSA0I-_Ni"
      }
    },
    {
      "cell_type": "markdown",
      "source": [
        "\n",
        "## 3.1 Going from raw model outputs to predicted labels \n",
        "\n",
        "(logits -> prediction probabilities -> prediction labels)\n",
        "\n",
        "Before training loop steps, let's see what comes out of our model during the forward pass (the forward pass is defined by the forward() method).\n",
        "\n",
        "To do so, let's pass the model some data."
      ],
      "metadata": {
        "id": "m5Ih__mJ_hue"
      }
    },
    {
      "cell_type": "code",
      "source": [
        "# View the frist 5 outputs of the forward pass on the test data\n",
        "y_logits = model_0(X_test.to(device))[:5]\n",
        "y_logits"
      ],
      "metadata": {
        "colab": {
          "base_uri": "https://localhost:8080/"
        },
        "id": "pkhCI8ti-2Gg",
        "outputId": "ee138fce-e142-4222-c5ae-57d97fbf6afd"
      },
      "execution_count": null,
      "outputs": [
        {
          "output_type": "execute_result",
          "data": {
            "text/plain": [
              "tensor([[-9.4059, -5.5992,  5.3674],\n",
              "        [-9.2321, -5.6455,  5.3573],\n",
              "        [-8.0064, -4.7566,  4.5665],\n",
              "        [-7.9602, -4.7709,  4.6284],\n",
              "        [-5.9735, -3.5478,  3.3242]], grad_fn=<SliceBackward0>)"
            ]
          },
          "metadata": {},
          "execution_count": 31
        }
      ]
    },
    {
      "cell_type": "markdown",
      "source": [
        "Since our model hasn't been trained, these outputs are basically random.\n",
        "\n",
        "\n",
        "They're the output of our forward() method.\n",
        "\n",
        "Which implements two layers of nn.Linear() which internally calls a linear equation.\n",
        "\n",
        "The raw outputs (unmodified) of this equation (\n",
        "y\n",
        ") and in turn, the raw outputs of our model are often referred to as logits.\n",
        "\n",
        "That's what our model is outputing above when it takes in the input data (\n",
        "x\n",
        " in the equation or X_test in the code), logits.\n",
        "\n",
        "To get our model's raw outputs (logits) into such a form, we can use the Sigmoid activation function.\n"
      ],
      "metadata": {
        "id": "2eqiV9-g_wEG"
      }
    },
    {
      "cell_type": "code",
      "source": [
        "# Use sigmoid on model logits\n",
        "y_pred_probs = torch.sigmoid(y_logits)\n",
        "y_pred_probs"
      ],
      "metadata": {
        "colab": {
          "base_uri": "https://localhost:8080/"
        },
        "id": "wHw5uf3t_7Pc",
        "outputId": "ead66a1e-6535-401e-9385-d7ea7154d079"
      },
      "execution_count": null,
      "outputs": [
        {
          "output_type": "execute_result",
          "data": {
            "text/plain": [
              "tensor([[8.2227e-05, 3.6870e-03, 9.9536e-01],\n",
              "        [9.7836e-05, 3.5209e-03, 9.9531e-01],\n",
              "        [3.3321e-04, 8.5216e-03, 9.8971e-01],\n",
              "        [3.4897e-04, 8.4015e-03, 9.9032e-01],\n",
              "        [2.5388e-03, 2.7984e-02, 9.6525e-01]], grad_fn=<SigmoidBackward0>)"
            ]
          },
          "metadata": {},
          "execution_count": 32
        }
      ]
    },
    {
      "cell_type": "markdown",
      "source": [
        "\n",
        "It  the outputs now are in the form of prediction probabilities.\n",
        "\n",
        "In our case, since we're dealing with binary classification, our ideal outputs are 0 or 1.\n",
        "\n",
        "So these values can be viewed as a decision boundary.\n",
        "\n",
        "The closer to 0, the more the model thinks the sample belongs to class 0, the closer to 1, the more the model thinks the sample belongs to class 1.\n",
        "\n",
        "More specificially:\n",
        "\n",
        "* If y_pred_probs >= 0.5, y=1 (class 1)\n",
        "* If y_pred_probs < 0.5, y=0 (class 0)\n",
        "\n",
        "To turn our prediction probabilities in prediction labels, we can round the outputs of the sigmoid activation function."
      ],
      "metadata": {
        "id": "oHqyqI0pAAA0"
      }
    },
    {
      "cell_type": "code",
      "source": [
        "# Find the predicted labels (round the prediction probabilities)\n",
        "y_preds = torch.round(y_pred_probs)\n",
        "\n",
        "# In full\n",
        "y_pred_labels = torch.round(torch.sigmoid(model_0(X_test.to(device))[:5]))\n",
        "\n",
        "# Check for equality\n",
        "print(torch.eq(y_preds.squeeze(), y_pred_labels.squeeze()))\n",
        "\n",
        "# Get rid of extra dimension\n",
        "y_preds.squeeze()"
      ],
      "metadata": {
        "colab": {
          "base_uri": "https://localhost:8080/"
        },
        "id": "oBMuk-JNAHyJ",
        "outputId": "08a75089-4bce-4fdb-de7d-a8fcd842e8a4"
      },
      "execution_count": null,
      "outputs": [
        {
          "output_type": "stream",
          "name": "stdout",
          "text": [
            "tensor([[True, True, True],\n",
            "        [True, True, True],\n",
            "        [True, True, True],\n",
            "        [True, True, True],\n",
            "        [True, True, True]])\n"
          ]
        },
        {
          "output_type": "execute_result",
          "data": {
            "text/plain": [
              "tensor([[0., 0., 1.],\n",
              "        [0., 0., 1.],\n",
              "        [0., 0., 1.],\n",
              "        [0., 0., 1.],\n",
              "        [0., 0., 1.]], grad_fn=<SqueezeBackward0>)"
            ]
          },
          "metadata": {},
          "execution_count": 33
        }
      ]
    },
    {
      "cell_type": "code",
      "source": [
        "Y_test[:]"
      ],
      "metadata": {
        "colab": {
          "base_uri": "https://localhost:8080/"
        },
        "id": "C6GYGdrmAN83",
        "outputId": "4afb83fb-74e0-40e8-891a-8466dba51479"
      },
      "execution_count": null,
      "outputs": [
        {
          "output_type": "execute_result",
          "data": {
            "text/plain": [
              "tensor([[0., 0., 1.],\n",
              "        [1., 0., 0.],\n",
              "        [0., 0., 1.],\n",
              "        ...,\n",
              "        [1., 0., 0.],\n",
              "        [0., 0., 1.],\n",
              "        [0., 0., 1.]])"
            ]
          },
          "metadata": {},
          "execution_count": 34
        }
      ]
    },
    {
      "cell_type": "markdown",
      "source": [
        "\n",
        "\n",
        "Note: The use of the sigmoid activation function is often only for binary classification logits. For multi-class classification, we'll be looking at using the softmax activation function.\n",
        "\n",
        "And the use of the sigmoid activation function is not required when passing our model's raw outputs to the nn.BCEWithLogitsLoss (the \"logits\" in logits loss is because it works on the model's raw logits output), this is because it has a sigmoid function built-in."
      ],
      "metadata": {
        "id": "8bDUOyqjAVE8"
      }
    },
    {
      "cell_type": "markdown",
      "source": [
        "\n",
        "## 3.2 Building a training and testing loop\n",
        "\n",
        "Alright, we've discussed how to take our raw model outputs and convert them to prediction labels, now let's build a training loop.\n",
        "\n",
        "Let's start by training for 100 epochs and outputing the model's progress every 10 epochs."
      ],
      "metadata": {
        "id": "lK_PmG8xAeFI"
      }
    },
    {
      "cell_type": "code",
      "source": [
        " Y_train\n"
      ],
      "metadata": {
        "colab": {
          "base_uri": "https://localhost:8080/"
        },
        "id": "YOJrbIZHD7YM",
        "outputId": "89c7f746-ae2d-468e-cda9-8972d8de0c3d"
      },
      "execution_count": null,
      "outputs": [
        {
          "output_type": "execute_result",
          "data": {
            "text/plain": [
              "tensor([[0., 0., 1.],\n",
              "        [0., 0., 1.],\n",
              "        [0., 0., 1.],\n",
              "        ...,\n",
              "        [0., 0., 1.],\n",
              "        [0., 0., 1.],\n",
              "        [0., 1., 0.]])"
            ]
          },
          "metadata": {},
          "execution_count": 35
        }
      ]
    },
    {
      "cell_type": "code",
      "source": [
        "torch.manual_seed(42)\n",
        "\n",
        "# Set the number of epochs\n",
        "epochs = 100\n",
        "\n",
        "\n",
        "# Build training and evaluation loop\n",
        "for epoch in range(epochs):\n",
        "    ### Training\n",
        "    model_0.train()\n",
        "\n",
        "    # 1. Forward pass (model outputs raw logits)\n",
        "    y_logits = model_0(X_train).squeeze() # squeeze to remove extra `1` dimensions, this won't work unless model and data are on same device \n",
        "    y_pred = torch.round(torch.sigmoid(y_logits)) # turn logits -> pred probs -> pred labls\n",
        "  \n",
        "    # 2. Calculate loss/accuracy\n",
        "    # loss = loss_fn(torch.sigmoid(y_logits), # Using nn.BCELoss you need torch.sigmoid()\n",
        "    #                y_train) \n",
        "    loss = loss_fn(y_logits, # Using nn.BCEWithLogitsLoss works with raw logits\n",
        "                   Y_train) \n",
        "    acc = accuracy_fn(Y_test=Y_train, \n",
        "                      Y_pred=y_pred) \n",
        "\n",
        "    # 3. Optimizer zero grad\n",
        "    optimizer.zero_grad()\n",
        "\n",
        "    # 4. Loss backwards\n",
        "    loss.backward()\n",
        "\n",
        "    # 5. Optimizer step\n",
        "    optimizer.step()\n",
        "\n",
        "    ### Testing\n",
        "    model_0.eval()\n",
        "    with torch.inference_mode():\n",
        "        # 1. Forward pass\n",
        "        test_logits = model_0(X_test).squeeze() \n",
        "        test_pred = torch.round(torch.sigmoid(test_logits))\n",
        "        # 2. Caculate loss/accuracy\n",
        "        test_loss = loss_fn(test_logits,\n",
        "                            Y_test)\n",
        "        test_acc = accuracy_fn(Y_test=Y_test,\n",
        "                               Y_pred=test_pred)\n",
        "\n",
        "    # Print out what's happening every 10 epochs\n",
        "    if epoch % 10 == 0:\n",
        "        print(f\"Epoch: {epoch} | Loss: {loss:.5f}, Accuracy: {acc:.2f}% | Test loss: {test_loss:.5f}, Test acc: {test_acc:.2f}%\")"
      ],
      "metadata": {
        "colab": {
          "base_uri": "https://localhost:8080/"
        },
        "id": "cqwlFhWOppEV",
        "outputId": "70c136a7-c344-41bf-8594-8d5a9595282a"
      },
      "execution_count": null,
      "outputs": [
        {
          "output_type": "stream",
          "name": "stdout",
          "text": [
            "Epoch: 0 | Loss: 4.80764, Accuracy: 75.56% | Test loss: 2.49624, Test acc: 224.30%\n",
            "Epoch: 10 | Loss: 0.53275, Accuracy: 224.45% | Test loss: 0.53257, Test acc: 224.31%\n",
            "Epoch: 20 | Loss: 0.52654, Accuracy: 224.45% | Test loss: 0.52679, Test acc: 224.31%\n",
            "Epoch: 30 | Loss: 0.52165, Accuracy: 224.45% | Test loss: 0.52200, Test acc: 224.31%\n",
            "Epoch: 40 | Loss: 0.52537, Accuracy: 224.45% | Test loss: 0.52796, Test acc: 224.31%\n",
            "Epoch: 50 | Loss: 0.52182, Accuracy: 224.46% | Test loss: 0.52028, Test acc: 224.30%\n",
            "Epoch: 60 | Loss: 0.51744, Accuracy: 224.53% | Test loss: 0.51860, Test acc: 224.30%\n",
            "Epoch: 70 | Loss: 0.52194, Accuracy: 225.87% | Test loss: 0.52155, Test acc: 224.30%\n",
            "Epoch: 80 | Loss: 0.51649, Accuracy: 227.04% | Test loss: 0.51816, Test acc: 224.30%\n",
            "Epoch: 90 | Loss: 0.51697, Accuracy: 231.70% | Test loss: 0.51793, Test acc: 224.30%\n"
          ]
        }
      ]
    }
  ]
}