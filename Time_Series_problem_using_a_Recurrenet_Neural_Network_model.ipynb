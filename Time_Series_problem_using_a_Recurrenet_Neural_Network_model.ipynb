{
  "nbformat": 4,
  "nbformat_minor": 0,
  "metadata": {
    "colab": {
      "provenance": [],
      "authorship_tag": "ABX9TyPHzv8q59n2dgf10NTGiPMy",
      "include_colab_link": true
    },
    "kernelspec": {
      "name": "python3",
      "display_name": "Python 3"
    },
    "language_info": {
      "name": "python"
    }
  },
  "cells": [
    {
      "cell_type": "markdown",
      "metadata": {
        "id": "view-in-github",
        "colab_type": "text"
      },
      "source": [
        "<a href=\"https://colab.research.google.com/github/iscel15/Ciencia-de-datos/blob/main/Time_Series_problem_using_a_Recurrenet_Neural_Network_model.ipynb\" target=\"_parent\"><img src=\"https://colab.research.google.com/assets/colab-badge.svg\" alt=\"Open In Colab\"/></a>"
      ]
    },
    {
      "cell_type": "markdown",
      "source": [
        "# Solving a Time Series problem using a Recurrenet Neural Network model\n",
        "\n",
        "We are going to fix sequences from a noisy sin function into our RNN model, and from that, were going to recover the actual sin function. First 1500 steps for training, and other 500 for prediction and testing. \n",
        "\n",
        "For this, we can stablish four main steps: \n",
        "\n",
        "**1. Prepare general dataset**\n",
        "\n",
        "**2. Prepare dataset for training**\n",
        "\n",
        "**3. Create and train model**\n",
        "\n",
        "**4. Plot results**\n",
        "\n"
      ],
      "metadata": {
        "id": "rnp57B73NXgZ"
      }
    },
    {
      "cell_type": "markdown",
      "source": [
        "## Import neccesary libraries"
      ],
      "metadata": {
        "id": "3zroirkCNna_"
      }
    },
    {
      "cell_type": "code",
      "execution_count": null,
      "metadata": {
        "id": "HQdjlIihVIDp"
      },
      "outputs": [],
      "source": [
        "import numpy as np\n",
        "import matplotlib.pyplot as plt"
      ]
    },
    {
      "cell_type": "markdown",
      "source": [
        "*np.random.seed()* is for making sure  any random value generated is **reproducible**"
      ],
      "metadata": {
        "id": "1QrZX1VUPPEX"
      }
    },
    {
      "cell_type": "code",
      "source": [
        "np.random.seed(0)"
      ],
      "metadata": {
        "id": "oY-T7pXYH-Jm"
      },
      "execution_count": null,
      "outputs": []
    },
    {
      "cell_type": "markdown",
      "source": [
        "## Preparing our data\n",
        "\n",
        "**1. General dataset**\n",
        "**2. Prepare dataset for training**\n",
        "**3. Create and train model**\n",
        "**4. Plot results**\n"
      ],
      "metadata": {
        "id": "KBDBHaKCLmXR"
      }
    },
    {
      "cell_type": "code",
      "source": [
        "t = np.arange(0,1500)\n",
        "x = np.cos(0.015*t) + np.random.uniform(low=-1, high=1, size=(1500,))\n",
        "plt.plot(x)\n",
        "\n",
        "x_actual = np.cos(0.015*t)\n",
        "plt.plot(x_actual)"
      ],
      "metadata": {
        "id": "cl0XpiLfIFDe",
        "colab": {
          "base_uri": "https://localhost:8080/",
          "height": 282
        },
        "outputId": "98e06ad1-bc08-47c9-cfbc-da9b9c37879d"
      },
      "execution_count": null,
      "outputs": [
        {
          "output_type": "execute_result",
          "data": {
            "text/plain": [
              "[<matplotlib.lines.Line2D at 0x7f07d1c42a60>]"
            ]
          },
          "metadata": {},
          "execution_count": 21
        },
        {
          "output_type": "display_data",
          "data": {
            "text/plain": [
              "<Figure size 432x288 with 1 Axes>"
            ],
            "image/png": "[encoded data removed]"
          },
          "metadata": {
            "needs_background": "light"
          }
        }
      ]
    },
    {
      "cell_type": "markdown",
      "source": [
        "## **Import**"
      ],
      "metadata": {
        "id": "12oemzWcSYrk"
      }
    },
    {
      "cell_type": "code",
      "source": [
        "from sklearn.preprocessing import MinMaxScaler"
      ],
      "metadata": {
        "id": "ivvFDE1VLC4o"
      },
      "execution_count": null,
      "outputs": []
    },
    {
      "cell_type": "markdown",
      "source": [
        "## **Normalize**"
      ],
      "metadata": {
        "id": "P8VRw2kkSgR6"
      }
    },
    {
      "cell_type": "code",
      "source": [
        "normalizer = MinMaxScaler(feature_range=(0,1))\n",
        "x = (np.reshape(x, (-1,1)))\n",
        "x = normalizer.fit_transform(x)\n",
        "print(x)"
      ],
      "metadata": {
        "colab": {
          "base_uri": "https://localhost:8080/"
        },
        "id": "ZBdPjgBnSkV6",
        "outputId": "7d0605f0-5ab0-4a94-e7bd-d8abd9e41e25"
      },
      "execution_count": null,
      "outputs": [
        {
          "output_type": "stream",
          "name": "stdout",
          "text": [
            "[[0.68804927]\n",
            " [0.71503837]\n",
            " [0.84247459]\n",
            " ...\n",
            " [0.09794421]\n",
            " [0.08655682]\n",
            " [0.49409089]]\n"
          ]
        }
      ]
    },
    {
      "cell_type": "markdown",
      "source": [
        "## **Create Datast**"
      ],
      "metadata": {
        "id": "NUm_cHNLS8ZA"
      }
    },
    {
      "cell_type": "code",
      "source": [
        "train = x[0:1000]\n",
        "test = x[1000:]\n",
        "print(train.shape)"
      ],
      "metadata": {
        "colab": {
          "base_uri": "https://localhost:8080/"
        },
        "id": "R4HoUM1FS_6k",
        "outputId": "a62b8afd-0378-484a-d2fb-c9b8b8a878fe"
      },
      "execution_count": null,
      "outputs": [
        {
          "output_type": "stream",
          "name": "stdout",
          "text": [
            "(1000, 1)\n"
          ]
        }
      ]
    },
    {
      "cell_type": "code",
      "source": [
        "def createDataset(data,step):\n",
        "  X, Y = [], []\n",
        "  for i in range(len(data)-step):\n",
        "    X.append(data[i:i+step])\n",
        "    Y.append(data[i+step])\n",
        "  return np.array(X), np.array(Y)\n",
        "\n",
        "step = 10\n",
        "trainX,trainY = createDataset(train,step)\n",
        "testX,testY = createDataset(test,step)\n",
        "print(trainX[0])"
      ],
      "metadata": {
        "colab": {
          "base_uri": "https://localhost:8080/"
        },
        "id": "F81d7S7hTKgg",
        "outputId": "6c34add7-9a20-42ec-a696-588f63adb006"
      },
      "execution_count": null,
      "outputs": [
        {
          "output_type": "stream",
          "name": "stdout",
          "text": [
            "[[0.68804927]\n",
            " [0.71503837]\n",
            " [0.84247459]\n",
            " [0.80117092]\n",
            " [0.53504159]\n",
            " [0.57840017]\n",
            " [0.5345146 ]\n",
            " [0.51611838]\n",
            " [0.88738153]\n",
            " [0.9244793 ]]\n"
          ]
        }
      ]
    },
    {
      "cell_type": "code",
      "source": [
        "print(trainY[0])"
      ],
      "metadata": {
        "colab": {
          "base_uri": "https://localhost:8080/"
        },
        "id": "GLb9ifaUT-jL",
        "outputId": "ee2c241b-5efc-44dc-ba98-45785afb2d68"
      },
      "execution_count": null,
      "outputs": [
        {
          "output_type": "stream",
          "name": "stdout",
          "text": [
            "[0.70598137]\n"
          ]
        }
      ]
    },
    {
      "cell_type": "code",
      "source": [
        "print(trainX.shape)"
      ],
      "metadata": {
        "colab": {
          "base_uri": "https://localhost:8080/"
        },
        "id": "2tiUjmwwUFeX",
        "outputId": "5d787852-eda1-4263-a3fc-6a190db219be"
      },
      "execution_count": null,
      "outputs": [
        {
          "output_type": "stream",
          "name": "stdout",
          "text": [
            "(990, 10, 1)\n"
          ]
        }
      ]
    },
    {
      "cell_type": "markdown",
      "source": [
        "## **Training our Network**\n",
        "\n",
        "**Sequential class**: Linear stack of functional layers, constitute our network model.\n",
        "**Layers **: Dense and SimpleRNN"
      ],
      "metadata": {
        "id": "B7W3Mxw9QLkg"
      }
    },
    {
      "cell_type": "code",
      "source": [
        "from tensorflow.keras.models import Sequential\n",
        "from tensorflow.keras.layers import Dense, SimpleRNN"
      ],
      "metadata": {
        "id": "iCQBBvgtQKu8"
      },
      "execution_count": null,
      "outputs": []
    },
    {
      "cell_type": "markdown",
      "source": [
        "Historically, the **tanh** function became preferred over the sigmoid function as it gave better performance for multi-layer neural networks. But it did not solve the vanishing gradient problem that sigmoids suffered, which was tackled more effectively with the introduction of ReLU activations."
      ],
      "metadata": {
        "id": "PlnI2KlzVOx8"
      }
    },
    {
      "cell_type": "code",
      "source": [
        "model = Sequential()\n",
        "model.add(SimpleRNN(units=1, activation=\"tanh\"))\n",
        "model.add(Dense(1))\n",
        "model.compile(loss='mean_squared_error', optimizer='rmsprop')"
      ],
      "metadata": {
        "id": "QjRwtgZ9RNT1"
      },
      "execution_count": null,
      "outputs": []
    },
    {
      "cell_type": "code",
      "source": [
        "history = model.fit(trainX,trainY,epochs=200, batch_size=16, verbose=2)"
      ],
      "metadata": {
        "colab": {
          "base_uri": "https://localhost:8080/"
        },
        "id": "6DQ4tOMpRmDV",
        "outputId": "3561d31c-0d18-451f-a1d4-2f6dc2dfce44"
      },
      "execution_count": null,
      "outputs": [
        {
          "output_type": "stream",
          "name": "stdout",
          "text": [
            "Epoch 1/200\n",
            "62/62 - 2s - loss: 0.0697 - 2s/epoch - 25ms/step\n",
            "Epoch 2/200\n",
            "62/62 - 0s - loss: 0.0462 - 404ms/epoch - 7ms/step\n",
            "Epoch 3/200\n",
            "62/62 - 0s - loss: 0.0391 - 390ms/epoch - 6ms/step\n",
            "Epoch 4/200\n",
            "62/62 - 0s - loss: 0.0310 - 419ms/epoch - 7ms/step\n",
            "Epoch 5/200\n",
            "62/62 - 0s - loss: 0.0276 - 401ms/epoch - 6ms/step\n",
            "Epoch 6/200\n",
            "62/62 - 0s - loss: 0.0264 - 468ms/epoch - 8ms/step\n",
            "Epoch 7/200\n",
            "62/62 - 0s - loss: 0.0257 - 428ms/epoch - 7ms/step\n",
            "Epoch 8/200\n",
            "62/62 - 0s - loss: 0.0251 - 331ms/epoch - 5ms/step\n",
            "Epoch 9/200\n",
            "62/62 - 0s - loss: 0.0249 - 292ms/epoch - 5ms/step\n",
            "Epoch 10/200\n",
            "62/62 - 0s - loss: 0.0246 - 280ms/epoch - 5ms/step\n",
            "Epoch 11/200\n",
            "62/62 - 0s - loss: 0.0244 - 250ms/epoch - 4ms/step\n",
            "Epoch 12/200\n",
            "62/62 - 0s - loss: 0.0240 - 224ms/epoch - 4ms/step\n",
            "Epoch 13/200\n",
            "62/62 - 0s - loss: 0.0238 - 256ms/epoch - 4ms/step\n",
            "Epoch 14/200\n",
            "62/62 - 0s - loss: 0.0238 - 233ms/epoch - 4ms/step\n",
            "Epoch 15/200\n",
            "62/62 - 0s - loss: 0.0238 - 275ms/epoch - 4ms/step\n",
            "Epoch 16/200\n",
            "62/62 - 0s - loss: 0.0236 - 264ms/epoch - 4ms/step\n",
            "Epoch 17/200\n",
            "62/62 - 0s - loss: 0.0235 - 264ms/epoch - 4ms/step\n",
            "Epoch 18/200\n",
            "62/62 - 0s - loss: 0.0234 - 303ms/epoch - 5ms/step\n",
            "Epoch 19/200\n",
            "62/62 - 0s - loss: 0.0234 - 280ms/epoch - 5ms/step\n",
            "Epoch 20/200\n",
            "62/62 - 0s - loss: 0.0233 - 248ms/epoch - 4ms/step\n",
            "Epoch 21/200\n",
            "62/62 - 0s - loss: 0.0232 - 246ms/epoch - 4ms/step\n",
            "Epoch 22/200\n",
            "62/62 - 0s - loss: 0.0232 - 268ms/epoch - 4ms/step\n",
            "Epoch 23/200\n",
            "62/62 - 0s - loss: 0.0232 - 256ms/epoch - 4ms/step\n",
            "Epoch 24/200\n",
            "62/62 - 0s - loss: 0.0232 - 222ms/epoch - 4ms/step\n",
            "Epoch 25/200\n",
            "62/62 - 0s - loss: 0.0231 - 260ms/epoch - 4ms/step\n",
            "Epoch 26/200\n",
            "62/62 - 0s - loss: 0.0232 - 304ms/epoch - 5ms/step\n",
            "Epoch 27/200\n",
            "62/62 - 0s - loss: 0.0230 - 228ms/epoch - 4ms/step\n",
            "Epoch 28/200\n",
            "62/62 - 0s - loss: 0.0231 - 227ms/epoch - 4ms/step\n",
            "Epoch 29/200\n",
            "62/62 - 0s - loss: 0.0230 - 200ms/epoch - 3ms/step\n",
            "Epoch 30/200\n",
            "62/62 - 0s - loss: 0.0230 - 207ms/epoch - 3ms/step\n",
            "Epoch 31/200\n",
            "62/62 - 0s - loss: 0.0229 - 223ms/epoch - 4ms/step\n",
            "Epoch 32/200\n",
            "62/62 - 0s - loss: 0.0230 - 237ms/epoch - 4ms/step\n",
            "Epoch 33/200\n",
            "62/62 - 0s - loss: 0.0230 - 241ms/epoch - 4ms/step\n",
            "Epoch 34/200\n",
            "62/62 - 0s - loss: 0.0229 - 194ms/epoch - 3ms/step\n",
            "Epoch 35/200\n",
            "62/62 - 0s - loss: 0.0230 - 216ms/epoch - 3ms/step\n",
            "Epoch 36/200\n",
            "62/62 - 0s - loss: 0.0229 - 230ms/epoch - 4ms/step\n",
            "Epoch 37/200\n",
            "62/62 - 0s - loss: 0.0229 - 211ms/epoch - 3ms/step\n",
            "Epoch 38/200\n",
            "62/62 - 0s - loss: 0.0229 - 191ms/epoch - 3ms/step\n",
            "Epoch 39/200\n",
            "62/62 - 0s - loss: 0.0229 - 189ms/epoch - 3ms/step\n",
            "Epoch 40/200\n",
            "62/62 - 0s - loss: 0.0227 - 239ms/epoch - 4ms/step\n",
            "Epoch 41/200\n",
            "62/62 - 0s - loss: 0.0228 - 244ms/epoch - 4ms/step\n",
            "Epoch 42/200\n",
            "62/62 - 0s - loss: 0.0228 - 220ms/epoch - 4ms/step\n",
            "Epoch 43/200\n",
            "62/62 - 0s - loss: 0.0228 - 232ms/epoch - 4ms/step\n",
            "Epoch 44/200\n",
            "62/62 - 0s - loss: 0.0227 - 221ms/epoch - 4ms/step\n",
            "Epoch 45/200\n",
            "62/62 - 0s - loss: 0.0227 - 200ms/epoch - 3ms/step\n",
            "Epoch 46/200\n",
            "62/62 - 0s - loss: 0.0229 - 199ms/epoch - 3ms/step\n",
            "Epoch 47/200\n",
            "62/62 - 0s - loss: 0.0229 - 238ms/epoch - 4ms/step\n",
            "Epoch 48/200\n",
            "62/62 - 0s - loss: 0.0228 - 185ms/epoch - 3ms/step\n",
            "Epoch 49/200\n",
            "62/62 - 0s - loss: 0.0226 - 248ms/epoch - 4ms/step\n",
            "Epoch 50/200\n",
            "62/62 - 0s - loss: 0.0228 - 338ms/epoch - 5ms/step\n",
            "Epoch 51/200\n",
            "62/62 - 0s - loss: 0.0227 - 356ms/epoch - 6ms/step\n",
            "Epoch 52/200\n",
            "62/62 - 0s - loss: 0.0228 - 347ms/epoch - 6ms/step\n",
            "Epoch 53/200\n",
            "62/62 - 0s - loss: 0.0227 - 336ms/epoch - 5ms/step\n",
            "Epoch 54/200\n",
            "62/62 - 0s - loss: 0.0227 - 329ms/epoch - 5ms/step\n",
            "Epoch 55/200\n",
            "62/62 - 0s - loss: 0.0228 - 369ms/epoch - 6ms/step\n",
            "Epoch 56/200\n",
            "62/62 - 0s - loss: 0.0228 - 398ms/epoch - 6ms/step\n",
            "Epoch 57/200\n",
            "62/62 - 0s - loss: 0.0227 - 280ms/epoch - 5ms/step\n",
            "Epoch 58/200\n",
            "62/62 - 0s - loss: 0.0227 - 251ms/epoch - 4ms/step\n",
            "Epoch 59/200\n",
            "62/62 - 0s - loss: 0.0228 - 238ms/epoch - 4ms/step\n",
            "Epoch 60/200\n",
            "62/62 - 0s - loss: 0.0228 - 205ms/epoch - 3ms/step\n",
            "Epoch 61/200\n",
            "62/62 - 0s - loss: 0.0227 - 225ms/epoch - 4ms/step\n",
            "Epoch 62/200\n",
            "62/62 - 0s - loss: 0.0228 - 209ms/epoch - 3ms/step\n",
            "Epoch 63/200\n",
            "62/62 - 0s - loss: 0.0228 - 232ms/epoch - 4ms/step\n",
            "Epoch 64/200\n",
            "62/62 - 0s - loss: 0.0228 - 252ms/epoch - 4ms/step\n",
            "Epoch 65/200\n",
            "62/62 - 0s - loss: 0.0226 - 221ms/epoch - 4ms/step\n",
            "Epoch 66/200\n",
            "62/62 - 0s - loss: 0.0227 - 256ms/epoch - 4ms/step\n",
            "Epoch 67/200\n",
            "62/62 - 0s - loss: 0.0227 - 272ms/epoch - 4ms/step\n",
            "Epoch 68/200\n",
            "62/62 - 0s - loss: 0.0227 - 219ms/epoch - 4ms/step\n",
            "Epoch 69/200\n",
            "62/62 - 0s - loss: 0.0227 - 211ms/epoch - 3ms/step\n",
            "Epoch 70/200\n",
            "62/62 - 0s - loss: 0.0227 - 233ms/epoch - 4ms/step\n",
            "Epoch 71/200\n",
            "62/62 - 0s - loss: 0.0227 - 270ms/epoch - 4ms/step\n",
            "Epoch 72/200\n",
            "62/62 - 0s - loss: 0.0226 - 225ms/epoch - 4ms/step\n",
            "Epoch 73/200\n",
            "62/62 - 0s - loss: 0.0229 - 245ms/epoch - 4ms/step\n",
            "Epoch 74/200\n",
            "62/62 - 0s - loss: 0.0228 - 266ms/epoch - 4ms/step\n",
            "Epoch 75/200\n",
            "62/62 - 0s - loss: 0.0227 - 281ms/epoch - 5ms/step\n",
            "Epoch 76/200\n",
            "62/62 - 0s - loss: 0.0228 - 253ms/epoch - 4ms/step\n",
            "Epoch 77/200\n",
            "62/62 - 0s - loss: 0.0227 - 247ms/epoch - 4ms/step\n",
            "Epoch 78/200\n",
            "62/62 - 0s - loss: 0.0227 - 255ms/epoch - 4ms/step\n",
            "Epoch 79/200\n",
            "62/62 - 0s - loss: 0.0227 - 265ms/epoch - 4ms/step\n",
            "Epoch 80/200\n",
            "62/62 - 0s - loss: 0.0227 - 235ms/epoch - 4ms/step\n",
            "Epoch 81/200\n",
            "62/62 - 0s - loss: 0.0227 - 249ms/epoch - 4ms/step\n",
            "Epoch 82/200\n",
            "62/62 - 0s - loss: 0.0226 - 268ms/epoch - 4ms/step\n",
            "Epoch 83/200\n",
            "62/62 - 0s - loss: 0.0228 - 258ms/epoch - 4ms/step\n",
            "Epoch 84/200\n",
            "62/62 - 0s - loss: 0.0227 - 246ms/epoch - 4ms/step\n",
            "Epoch 85/200\n",
            "62/62 - 0s - loss: 0.0227 - 225ms/epoch - 4ms/step\n",
            "Epoch 86/200\n",
            "62/62 - 0s - loss: 0.0226 - 233ms/epoch - 4ms/step\n",
            "Epoch 87/200\n",
            "62/62 - 0s - loss: 0.0224 - 261ms/epoch - 4ms/step\n",
            "Epoch 88/200\n",
            "62/62 - 0s - loss: 0.0226 - 239ms/epoch - 4ms/step\n",
            "Epoch 89/200\n",
            "62/62 - 0s - loss: 0.0227 - 204ms/epoch - 3ms/step\n",
            "Epoch 90/200\n",
            "62/62 - 0s - loss: 0.0227 - 222ms/epoch - 4ms/step\n",
            "Epoch 91/200\n",
            "62/62 - 0s - loss: 0.0225 - 238ms/epoch - 4ms/step\n",
            "Epoch 92/200\n",
            "62/62 - 0s - loss: 0.0227 - 269ms/epoch - 4ms/step\n",
            "Epoch 93/200\n",
            "62/62 - 0s - loss: 0.0227 - 202ms/epoch - 3ms/step\n",
            "Epoch 94/200\n",
            "62/62 - 0s - loss: 0.0227 - 224ms/epoch - 4ms/step\n",
            "Epoch 95/200\n",
            "62/62 - 0s - loss: 0.0226 - 225ms/epoch - 4ms/step\n",
            "Epoch 96/200\n",
            "62/62 - 0s - loss: 0.0227 - 236ms/epoch - 4ms/step\n",
            "Epoch 97/200\n",
            "62/62 - 0s - loss: 0.0227 - 201ms/epoch - 3ms/step\n",
            "Epoch 98/200\n",
            "62/62 - 0s - loss: 0.0226 - 327ms/epoch - 5ms/step\n",
            "Epoch 99/200\n",
            "62/62 - 0s - loss: 0.0227 - 371ms/epoch - 6ms/step\n",
            "Epoch 100/200\n",
            "62/62 - 0s - loss: 0.0227 - 360ms/epoch - 6ms/step\n",
            "Epoch 101/200\n",
            "62/62 - 0s - loss: 0.0227 - 343ms/epoch - 6ms/step\n",
            "Epoch 102/200\n",
            "62/62 - 0s - loss: 0.0227 - 379ms/epoch - 6ms/step\n",
            "Epoch 103/200\n",
            "62/62 - 0s - loss: 0.0226 - 365ms/epoch - 6ms/step\n",
            "Epoch 104/200\n",
            "62/62 - 0s - loss: 0.0227 - 359ms/epoch - 6ms/step\n",
            "Epoch 105/200\n",
            "62/62 - 0s - loss: 0.0226 - 256ms/epoch - 4ms/step\n",
            "Epoch 106/200\n",
            "62/62 - 0s - loss: 0.0226 - 240ms/epoch - 4ms/step\n",
            "Epoch 107/200\n",
            "62/62 - 0s - loss: 0.0227 - 272ms/epoch - 4ms/step\n",
            "Epoch 108/200\n",
            "62/62 - 0s - loss: 0.0227 - 238ms/epoch - 4ms/step\n",
            "Epoch 109/200\n",
            "62/62 - 0s - loss: 0.0226 - 192ms/epoch - 3ms/step\n",
            "Epoch 110/200\n",
            "62/62 - 0s - loss: 0.0226 - 233ms/epoch - 4ms/step\n",
            "Epoch 111/200\n",
            "62/62 - 0s - loss: 0.0227 - 195ms/epoch - 3ms/step\n",
            "Epoch 112/200\n",
            "62/62 - 0s - loss: 0.0227 - 222ms/epoch - 4ms/step\n",
            "Epoch 113/200\n",
            "62/62 - 0s - loss: 0.0227 - 243ms/epoch - 4ms/step\n",
            "Epoch 114/200\n",
            "62/62 - 0s - loss: 0.0226 - 253ms/epoch - 4ms/step\n",
            "Epoch 115/200\n",
            "62/62 - 0s - loss: 0.0227 - 211ms/epoch - 3ms/step\n",
            "Epoch 116/200\n",
            "62/62 - 0s - loss: 0.0225 - 214ms/epoch - 3ms/step\n",
            "Epoch 117/200\n",
            "62/62 - 0s - loss: 0.0226 - 261ms/epoch - 4ms/step\n",
            "Epoch 118/200\n",
            "62/62 - 0s - loss: 0.0225 - 240ms/epoch - 4ms/step\n",
            "Epoch 119/200\n",
            "62/62 - 0s - loss: 0.0226 - 204ms/epoch - 3ms/step\n",
            "Epoch 120/200\n",
            "62/62 - 0s - loss: 0.0226 - 189ms/epoch - 3ms/step\n",
            "Epoch 121/200\n",
            "62/62 - 0s - loss: 0.0226 - 207ms/epoch - 3ms/step\n",
            "Epoch 122/200\n",
            "62/62 - 0s - loss: 0.0226 - 254ms/epoch - 4ms/step\n",
            "Epoch 123/200\n",
            "62/62 - 0s - loss: 0.0225 - 238ms/epoch - 4ms/step\n",
            "Epoch 124/200\n",
            "62/62 - 0s - loss: 0.0227 - 230ms/epoch - 4ms/step\n",
            "Epoch 125/200\n",
            "62/62 - 0s - loss: 0.0225 - 199ms/epoch - 3ms/step\n",
            "Epoch 126/200\n",
            "62/62 - 0s - loss: 0.0226 - 193ms/epoch - 3ms/step\n",
            "Epoch 127/200\n",
            "62/62 - 0s - loss: 0.0226 - 248ms/epoch - 4ms/step\n",
            "Epoch 128/200\n",
            "62/62 - 0s - loss: 0.0226 - 249ms/epoch - 4ms/step\n",
            "Epoch 129/200\n",
            "62/62 - 0s - loss: 0.0225 - 243ms/epoch - 4ms/step\n",
            "Epoch 130/200\n",
            "62/62 - 0s - loss: 0.0225 - 231ms/epoch - 4ms/step\n",
            "Epoch 131/200\n",
            "62/62 - 0s - loss: 0.0225 - 231ms/epoch - 4ms/step\n",
            "Epoch 132/200\n",
            "62/62 - 0s - loss: 0.0227 - 237ms/epoch - 4ms/step\n",
            "Epoch 133/200\n",
            "62/62 - 0s - loss: 0.0226 - 238ms/epoch - 4ms/step\n",
            "Epoch 134/200\n",
            "62/62 - 0s - loss: 0.0226 - 195ms/epoch - 3ms/step\n",
            "Epoch 135/200\n",
            "62/62 - 0s - loss: 0.0226 - 204ms/epoch - 3ms/step\n",
            "Epoch 136/200\n",
            "62/62 - 0s - loss: 0.0227 - 251ms/epoch - 4ms/step\n",
            "Epoch 137/200\n",
            "62/62 - 0s - loss: 0.0226 - 237ms/epoch - 4ms/step\n",
            "Epoch 138/200\n",
            "62/62 - 0s - loss: 0.0224 - 231ms/epoch - 4ms/step\n",
            "Epoch 139/200\n",
            "62/62 - 0s - loss: 0.0226 - 240ms/epoch - 4ms/step\n",
            "Epoch 140/200\n",
            "62/62 - 0s - loss: 0.0226 - 256ms/epoch - 4ms/step\n",
            "Epoch 141/200\n",
            "62/62 - 0s - loss: 0.0227 - 272ms/epoch - 4ms/step\n",
            "Epoch 142/200\n",
            "62/62 - 0s - loss: 0.0224 - 219ms/epoch - 4ms/step\n",
            "Epoch 143/200\n",
            "62/62 - 0s - loss: 0.0227 - 224ms/epoch - 4ms/step\n",
            "Epoch 144/200\n",
            "62/62 - 0s - loss: 0.0226 - 196ms/epoch - 3ms/step\n",
            "Epoch 145/200\n",
            "62/62 - 0s - loss: 0.0226 - 233ms/epoch - 4ms/step\n",
            "Epoch 146/200\n",
            "62/62 - 0s - loss: 0.0224 - 193ms/epoch - 3ms/step\n",
            "Epoch 147/200\n",
            "62/62 - 0s - loss: 0.0226 - 202ms/epoch - 3ms/step\n",
            "Epoch 148/200\n",
            "62/62 - 0s - loss: 0.0225 - 296ms/epoch - 5ms/step\n",
            "Epoch 149/200\n",
            "62/62 - 0s - loss: 0.0225 - 391ms/epoch - 6ms/step\n",
            "Epoch 150/200\n",
            "62/62 - 0s - loss: 0.0226 - 347ms/epoch - 6ms/step\n",
            "Epoch 151/200\n",
            "62/62 - 0s - loss: 0.0226 - 363ms/epoch - 6ms/step\n",
            "Epoch 152/200\n",
            "62/62 - 0s - loss: 0.0227 - 361ms/epoch - 6ms/step\n",
            "Epoch 153/200\n",
            "62/62 - 0s - loss: 0.0225 - 385ms/epoch - 6ms/step\n",
            "Epoch 154/200\n",
            "62/62 - 0s - loss: 0.0226 - 359ms/epoch - 6ms/step\n",
            "Epoch 155/200\n",
            "62/62 - 0s - loss: 0.0225 - 288ms/epoch - 5ms/step\n",
            "Epoch 156/200\n",
            "62/62 - 0s - loss: 0.0226 - 235ms/epoch - 4ms/step\n",
            "Epoch 157/200\n",
            "62/62 - 0s - loss: 0.0226 - 236ms/epoch - 4ms/step\n",
            "Epoch 158/200\n",
            "62/62 - 0s - loss: 0.0226 - 241ms/epoch - 4ms/step\n",
            "Epoch 159/200\n",
            "62/62 - 0s - loss: 0.0226 - 253ms/epoch - 4ms/step\n",
            "Epoch 160/200\n",
            "62/62 - 0s - loss: 0.0226 - 238ms/epoch - 4ms/step\n",
            "Epoch 161/200\n",
            "62/62 - 0s - loss: 0.0227 - 219ms/epoch - 4ms/step\n",
            "Epoch 162/200\n",
            "62/62 - 0s - loss: 0.0227 - 192ms/epoch - 3ms/step\n",
            "Epoch 163/200\n",
            "62/62 - 0s - loss: 0.0224 - 197ms/epoch - 3ms/step\n",
            "Epoch 164/200\n",
            "62/62 - 0s - loss: 0.0226 - 233ms/epoch - 4ms/step\n",
            "Epoch 165/200\n",
            "62/62 - 0s - loss: 0.0226 - 181ms/epoch - 3ms/step\n",
            "Epoch 166/200\n",
            "62/62 - 0s - loss: 0.0225 - 188ms/epoch - 3ms/step\n",
            "Epoch 167/200\n",
            "62/62 - 0s - loss: 0.0225 - 197ms/epoch - 3ms/step\n",
            "Epoch 168/200\n",
            "62/62 - 0s - loss: 0.0225 - 187ms/epoch - 3ms/step\n",
            "Epoch 169/200\n",
            "62/62 - 0s - loss: 0.0228 - 257ms/epoch - 4ms/step\n",
            "Epoch 170/200\n",
            "62/62 - 0s - loss: 0.0226 - 237ms/epoch - 4ms/step\n",
            "Epoch 171/200\n",
            "62/62 - 0s - loss: 0.0225 - 192ms/epoch - 3ms/step\n",
            "Epoch 172/200\n",
            "62/62 - 0s - loss: 0.0225 - 204ms/epoch - 3ms/step\n",
            "Epoch 173/200\n",
            "62/62 - 0s - loss: 0.0227 - 216ms/epoch - 3ms/step\n",
            "Epoch 174/200\n",
            "62/62 - 0s - loss: 0.0226 - 194ms/epoch - 3ms/step\n",
            "Epoch 175/200\n",
            "62/62 - 1s - loss: 0.0225 - 562ms/epoch - 9ms/step\n",
            "Epoch 176/200\n",
            "62/62 - 0s - loss: 0.0226 - 255ms/epoch - 4ms/step\n",
            "Epoch 177/200\n",
            "62/62 - 0s - loss: 0.0226 - 228ms/epoch - 4ms/step\n",
            "Epoch 178/200\n",
            "62/62 - 0s - loss: 0.0226 - 367ms/epoch - 6ms/step\n",
            "Epoch 179/200\n",
            "62/62 - 0s - loss: 0.0225 - 434ms/epoch - 7ms/step\n",
            "Epoch 180/200\n",
            "62/62 - 0s - loss: 0.0226 - 245ms/epoch - 4ms/step\n",
            "Epoch 181/200\n",
            "62/62 - 0s - loss: 0.0226 - 240ms/epoch - 4ms/step\n",
            "Epoch 182/200\n",
            "62/62 - 0s - loss: 0.0226 - 221ms/epoch - 4ms/step\n",
            "Epoch 183/200\n",
            "62/62 - 0s - loss: 0.0227 - 253ms/epoch - 4ms/step\n",
            "Epoch 184/200\n",
            "62/62 - 0s - loss: 0.0225 - 250ms/epoch - 4ms/step\n",
            "Epoch 185/200\n",
            "62/62 - 0s - loss: 0.0226 - 214ms/epoch - 3ms/step\n",
            "Epoch 186/200\n",
            "62/62 - 0s - loss: 0.0226 - 216ms/epoch - 3ms/step\n",
            "Epoch 187/200\n",
            "62/62 - 0s - loss: 0.0226 - 233ms/epoch - 4ms/step\n",
            "Epoch 188/200\n",
            "62/62 - 0s - loss: 0.0226 - 214ms/epoch - 3ms/step\n",
            "Epoch 189/200\n",
            "62/62 - 0s - loss: 0.0226 - 208ms/epoch - 3ms/step\n",
            "Epoch 190/200\n",
            "62/62 - 0s - loss: 0.0226 - 197ms/epoch - 3ms/step\n",
            "Epoch 191/200\n",
            "62/62 - 0s - loss: 0.0226 - 204ms/epoch - 3ms/step\n",
            "Epoch 192/200\n",
            "62/62 - 0s - loss: 0.0224 - 197ms/epoch - 3ms/step\n",
            "Epoch 193/200\n",
            "62/62 - 0s - loss: 0.0226 - 237ms/epoch - 4ms/step\n",
            "Epoch 194/200\n",
            "62/62 - 0s - loss: 0.0225 - 242ms/epoch - 4ms/step\n",
            "Epoch 195/200\n",
            "62/62 - 0s - loss: 0.0226 - 224ms/epoch - 4ms/step\n",
            "Epoch 196/200\n",
            "62/62 - 0s - loss: 0.0225 - 295ms/epoch - 5ms/step\n",
            "Epoch 197/200\n",
            "62/62 - 0s - loss: 0.0227 - 371ms/epoch - 6ms/step\n",
            "Epoch 198/200\n",
            "62/62 - 0s - loss: 0.0226 - 377ms/epoch - 6ms/step\n",
            "Epoch 199/200\n",
            "62/62 - 0s - loss: 0.0225 - 371ms/epoch - 6ms/step\n",
            "Epoch 200/200\n",
            "62/62 - 0s - loss: 0.0225 - 375ms/epoch - 6ms/step\n"
          ]
        }
      ]
    },
    {
      "cell_type": "code",
      "source": [
        "loss = history.history['loss']\n",
        "plt.plot(loss)"
      ],
      "metadata": {
        "colab": {
          "base_uri": "https://localhost:8080/",
          "height": 282
        },
        "id": "1RSxMX13Vaa4",
        "outputId": "111b5fd7-2082-48e2-a9e2-f88f2c3d27fc"
      },
      "execution_count": null,
      "outputs": [
        {
          "output_type": "execute_result",
          "data": {
            "text/plain": [
              "[<matplotlib.lines.Line2D at 0x7f07d37ccee0>]"
            ]
          },
          "metadata": {},
          "execution_count": 31
        },
        {
          "output_type": "display_data",
          "data": {
            "text/plain": [
              "<Figure size 432x288 with 1 Axes>"
            ],
            "image/png": "[encoded data removed]"
          },
          "metadata": {
            "needs_background": "light"
          }
        }
      ]
    },
    {
      "cell_type": "code",
      "source": [
        "trainPredict = model.predict(trainX)\n",
        "testPredict = normalizer.inverse_transform(model.predict(testX))\n",
        "predicted = np.concatenate((trainPredict,testPredict))\n",
        "x = normalizer.inverse_transform(x)"
      ],
      "metadata": {
        "colab": {
          "base_uri": "https://localhost:8080/"
        },
        "id": "3nlEivrEW3Jo",
        "outputId": "0e3faab3-f286-419d-8352-ad2623db0294"
      },
      "execution_count": null,
      "outputs": [
        {
          "output_type": "stream",
          "name": "stdout",
          "text": [
            "31/31 [==============================] - 0s 4ms/step\n",
            "16/16 [==============================] - 0s 3ms/step\n"
          ]
        }
      ]
    },
    {
      "cell_type": "code",
      "source": [
        "plt.plot(x)\n",
        "plt.plot(predicted)\n",
        "plt.axvline(len(trainX), c=\"r\")\n",
        "plt.plot(np.cos(0.015*t))"
      ],
      "metadata": {
        "colab": {
          "base_uri": "https://localhost:8080/",
          "height": 282
        },
        "id": "eS1bWeXMXln7",
        "outputId": "7d990da9-3014-4def-c997-845c751957d3"
      },
      "execution_count": null,
      "outputs": [
        {
          "output_type": "execute_result",
          "data": {
            "text/plain": [
              "[<matplotlib.lines.Line2D at 0x7f07d3767df0>]"
            ]
          },
          "metadata": {},
          "execution_count": 34
        },
        {
          "output_type": "display_data",
          "data": {
            "text/plain": [
              "<Figure size 432x288 with 1 Axes>"
            ],
            "image/png": "[encoded data removed]"
          },
          "metadata": {
            "needs_background": "light"
          }
        }
      ]
    }
  ]
}